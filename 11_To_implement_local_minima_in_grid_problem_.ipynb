{
  "nbformat": 4,
  "nbformat_minor": 0,
  "metadata": {
    "colab": {
      "provenance": [],
      "authorship_tag": "ABX9TyPtD4OjaHoeX3biIKOzqdT8",
      "include_colab_link": true
    },
    "kernelspec": {
      "name": "python3",
      "display_name": "Python 3"
    },
    "language_info": {
      "name": "python"
    }
  },
  "cells": [
    {
      "cell_type": "markdown",
      "metadata": {
        "id": "view-in-github",
        "colab_type": "text"
      },
      "source": [
        "<a href=\"https://colab.research.google.com/github/d0k7/Analysis-and-Design-of-Algorithm-Lab-Code-in-Python/blob/main/11_To_implement_local_minima_in_grid_problem_.ipynb\" target=\"_parent\"><img src=\"https://colab.research.google.com/assets/colab-badge.svg\" alt=\"Open In Colab\"/></a>"
      ]
    },
    {
      "cell_type": "code",
      "execution_count": 11,
      "metadata": {
        "colab": {
          "base_uri": "https://localhost:8080/"
        },
        "id": "aFeormMPtDES",
        "outputId": "001460f3-aa22-4ff0-c2ad-35ee028d1bb4"
      },
      "outputs": [
        {
          "output_type": "stream",
          "name": "stdout",
          "text": [
            "1\n"
          ]
        }
      ],
      "source": [
        "def find_local_minima(grid):\n",
        "    return min(min(row) for row in grid)\n",
        "grid = [[3, 4, 5], [6, 1, 7], [8, 9, 2]]\n",
        "\n",
        "local_minima = find_local_minima(grid)\n",
        "\n",
        "print(local_minima)  \n"
      ]
    },
    {
      "cell_type": "code",
      "source": [
        "#Explanation of above code:-\n",
        "\n",
        "\n",
        "\n",
        "\"\"\" \n",
        "\n",
        "A function named find_local_minima is defined, which takes a single argument grid. This function will be used to find the local minimum in the grid.\n",
        "\n",
        "The function uses a list comprehension to first iterate over each row of the grid, and then iterate over each element in each row.\n",
        "\n",
        "The min function is called to find the smallest element in each row of the grid.\n",
        "\n",
        "The outer min function is then called on the result of the inner min functions to find the smallest element among all the rows. This smallest element is the local minimum.\n",
        "\n",
        "The local minimum value is returned from the function.\n",
        "\n",
        "A 2D list named grid is defined, with three rows and three columns.\n",
        "\n",
        "The find_local_minima function is called with grid as an argument, and the returned value is stored in a variable named local_minima.\n",
        "\n",
        "The value stored in local_minima is printed to the console using the print statement.\n",
        "\n",
        "In summary, the code defines a function that finds the local minimum in a 2D grid by first finding the minimum value in each row, and then finding the minimum of all those minimums. This function is then used to find the local minimum in a specific 2D grid, and the value is printed to the console.\n",
        "\n",
        "\"\"\""
      ],
      "metadata": {
        "id": "gcqqhDkmwJva"
      },
      "execution_count": null,
      "outputs": []
    },
    {
      "cell_type": "code",
      "source": [
        "# All case time complexity:-\n",
        "\n",
        "\"\"\"\n",
        "\n",
        "The time complexity of the find_local_minima function is O(nm), where n is the number of rows in the 2D grid and m is the number of columns in the grid. This is because the function iterates over every element in the grid, which requires n * m operations.\n",
        "\n",
        "In the specific case where grid has n rows and m columns, the min function is called n times (once for each row) and each call to min compares m elements, so the total number of comparisons performed by the min function is n * m. This is the dominant operation in the function and contributes to the overall time complexity.\n",
        "\n",
        "The time complexity of the print statement is O(1), since it simply outputs the value stored in local_minima to the console.\n",
        "\n",
        "Therefore, the overall time complexity of the code is O(nm), which is proportional to the size of the input 2D grid.\n",
        "\n",
        "\"\"\""
      ],
      "metadata": {
        "id": "9y83OhwVyx0F"
      },
      "execution_count": null,
      "outputs": []
    }
  ]
}