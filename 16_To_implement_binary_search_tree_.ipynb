{
  "nbformat": 4,
  "nbformat_minor": 0,
  "metadata": {
    "colab": {
      "provenance": [],
      "authorship_tag": "ABX9TyNBr+s/6vA5ubkvtTgM/28G",
      "include_colab_link": true
    },
    "kernelspec": {
      "name": "python3",
      "display_name": "Python 3"
    },
    "language_info": {
      "name": "python"
    }
  },
  "cells": [
    {
      "cell_type": "markdown",
      "metadata": {
        "id": "view-in-github",
        "colab_type": "text"
      },
      "source": [
        "<a href=\"https://colab.research.google.com/github/d0k7/Analysis-and-Design-of-Algorithm-Lab-Code-in-Python/blob/main/16_To_implement_binary_search_tree_.ipynb\" target=\"_parent\"><img src=\"https://colab.research.google.com/assets/colab-badge.svg\" alt=\"Open In Colab\"/></a>"
      ]
    },
    {
      "cell_type": "code",
      "execution_count": 2,
      "metadata": {
        "colab": {
          "base_uri": "https://localhost:8080/"
        },
        "id": "5FQQGqxf9GCs",
        "outputId": "cd0e7553-eb9d-433e-8dc3-978ba6b64c92"
      },
      "outputs": [
        {
          "output_type": "stream",
          "name": "stdout",
          "text": [
            "True\n",
            "False\n"
          ]
        }
      ],
      "source": [
        "class Node:\n",
        "    def __init__(self, val):\n",
        "        self.val = val\n",
        "        self.left = None\n",
        "        self.right = None\n",
        "\n",
        "class BST:\n",
        "    def __init__(self):\n",
        "        self.root = None\n",
        "\n",
        "    def insert(self, val):\n",
        "        if not self.root:\n",
        "            self.root = Node(val)\n",
        "            return\n",
        "        curr = self.root\n",
        "        while True:\n",
        "            if val < curr.val:\n",
        "                if not curr.left:\n",
        "                    curr.left = Node(val)\n",
        "                    break\n",
        "                curr = curr.left\n",
        "            else:\n",
        "                if not curr.right:\n",
        "                    curr.right = Node(val)\n",
        "                    break\n",
        "                curr = curr.right\n",
        "\n",
        "    def search(self, val):\n",
        "        curr = self.root\n",
        "        while curr and val != curr.val:\n",
        "            curr = curr.left if val < curr.val else curr.right\n",
        "        return curr is not None\n",
        "\n",
        "bst = BST()\n",
        "bst.insert(5)\n",
        "bst.insert(3)\n",
        "bst.insert(7)\n",
        "bst.insert(1)\n",
        "bst.insert(4)\n",
        "\n",
        "print(bst.search(4))  \n",
        "print(bst.search(6))\n"
      ]
    },
    {
      "cell_type": "code",
      "source": [
        "# Explanation of above code:- \n",
        "\n",
        "\"\"\"\n",
        "\n",
        "The code defines a Node class with an integer value and left and right pointers to other nodes.\n",
        "\n",
        "\n",
        "The code also defines a BST class with a root attribute, which initially is None.\n",
        "\n",
        "\n",
        "The code then defines an insert method in the BST class, which takes a value and inserts it into the binary search tree.\n",
        "\n",
        "\n",
        "If the root of the BST is None, the method creates a new Node with the given value and sets it as the root.\n",
        "\n",
        "\n",
        "Otherwise, it traverses the tree to find the correct position for the new Node based on whether the value is greater or less than the current node's value.\n",
        "\n",
        "\n",
        "The code also defines a search method in the BST class, which takes a value and searches for it in the binary search tree.\n",
        "\n",
        "\n",
        "The search method starts at the root of the BST and traverses the tree to find the node with the given value, using the same greater or less \n",
        "than comparison as in the insert method.\n",
        "\n",
        "\n",
        "The search method returns True if the node with the given value is found and False otherwise.\n",
        "\n",
        "\n",
        "Finally, the code creates a new BST object, inserts some values, and tests the search method with some values, printing the result of each search.\n",
        "\n",
        "\"\"\""
      ],
      "metadata": {
        "id": "w8trpDs8-k3P"
      },
      "execution_count": null,
      "outputs": []
    },
    {
      "cell_type": "code",
      "source": [
        "# All case time complexity of above code:-\n",
        "\n",
        "\"\"\"\n",
        "\n",
        "The time complexity of the insert and search operations in a binary search tree depends on the height of the tree and can vary from O(log n) in the average case to O(n) \n",
        "in the worst case scenario where the tree is completely unbalanced.\n",
        "\n",
        "\n",
        "\n",
        "Insertion: O(log n) on average, O(n) in the worst case scenario.\n",
        "\n",
        "\n",
        "Search: O(log n) on average, O(n) in the worst case scenario.\n",
        "\n",
        "\n",
        "In the best case scenario, when the binary search tree is perfectly balanced, the height of the tree is log base 2 of n, where n is the number of nodes in the tree. \n",
        "In this case, the time complexity of both operations is O(log n).\n",
        "\n",
        "\"\"\""
      ],
      "metadata": {
        "id": "ytGweE0ZACt7"
      },
      "execution_count": null,
      "outputs": []
    }
  ]
}