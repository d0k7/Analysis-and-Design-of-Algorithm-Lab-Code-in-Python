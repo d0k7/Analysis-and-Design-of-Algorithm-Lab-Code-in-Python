{
  "nbformat": 4,
  "nbformat_minor": 0,
  "metadata": {
    "colab": {
      "provenance": [],
      "authorship_tag": "ABX9TyPYE+/efynGj31ekSPSdKbD",
      "include_colab_link": true
    },
    "kernelspec": {
      "name": "python3",
      "display_name": "Python 3"
    },
    "language_info": {
      "name": "python"
    }
  },
  "cells": [
    {
      "cell_type": "markdown",
      "metadata": {
        "id": "view-in-github",
        "colab_type": "text"
      },
      "source": [
        "<a href=\"https://colab.research.google.com/github/d0k7/Analysis-and-Design-of-Algorithm-Lab-Code-in-Python/blob/main/21_To_implement_multiplication_of_2_numbers_using_counting_inversion_approach.ipynb\" target=\"_parent\"><img src=\"https://colab.research.google.com/assets/colab-badge.svg\" alt=\"Open In Colab\"/></a>"
      ]
    },
    {
      "cell_type": "code",
      "execution_count": 1,
      "metadata": {
        "colab": {
          "base_uri": "https://localhost:8080/"
        },
        "id": "pjm5X8xSd-U6",
        "outputId": "9ce8831a-eef3-4e9f-ec37-1593b786dc11"
      },
      "outputs": [
        {
          "output_type": "stream",
          "name": "stdout",
          "text": [
            "7006652\n"
          ]
        }
      ],
      "source": [
        "def karatsuba(x, y):\n",
        "    if x < 10 or y < 10:\n",
        "        return x * y\n",
        "    else:\n",
        "        n = max(len(str(x)), len(str(y)))\n",
        "        m = n // 2\n",
        "\n",
        "        a = x // 10 ** m\n",
        "        b = x % 10 ** m\n",
        "        c = y // 10 ** m\n",
        "        d = y % 10 ** m\n",
        "\n",
        "        ac = karatsuba(a, c)\n",
        "        bd = karatsuba(b, d)\n",
        "        ad_bc = karatsuba(a + b, c + d) - ac - bd\n",
        "\n",
        "        return ac * 10 ** (2 * m) + ad_bc * 10 ** m + bd\n",
        "\n",
        "\n",
        "result = karatsuba(1234, 5678)\n",
        "print(result) \n"
      ]
    },
    {
      "cell_type": "code",
      "source": [
        "\"\"\"\n",
        "\n",
        "The counting inversion approach is not a suitable method for multiplying two numbers. It is a method used to count the number of inversions in an array, \n",
        "which is a different problem altogether.\n",
        "\n",
        "Multiplication of two numbers can be done using various algorithms such as the naive approach, Karatsuba algorithm, or the Schonhage-Strassen algorithm, \n",
        "among others. The code for these algorithms is not short, but they are efficient and accurate methods for multiplying large numbers.\n",
        "\n",
        "\"\"\""
      ],
      "metadata": {
        "id": "9BMJW43Ae128"
      },
      "execution_count": null,
      "outputs": []
    },
    {
      "cell_type": "code",
      "source": [
        "# Explanation of above code :-\n",
        "\n",
        "\"\"\"\n",
        "\n",
        "The above code is implementing multiplication of two numbers using the Karatsuba algorithm. Here is a brief explanation of how the algorithm works:\n",
        "\n",
        "Check if both the numbers are single digits or not. If so, multiply them and return the result.\n",
        "\n",
        "\n",
        "Find the length of the largest number among x and y and then divide it by 2 (i.e., n/2).\n",
        "\n",
        "\n",
        "Split the numbers x and y into two parts, a and b and c and d, respectively, based on the value of m obtained in step 2. Here a and c are the first m digits of x and y, respectively,\n",
        "and b and d are the remaining digits.\n",
        "\n",
        "\n",
        "Recursively calculate the values of ac, bd, and ad_bc using the Karatsuba algorithm.\n",
        "\n",
        "\n",
        "Finally, compute the result of the multiplication using the formula (ac * 10^(2m)) + ((ad_bc * 10^m)) + bd.\n",
        "\n",
        "\n",
        "Here is a summary of what the variables in the code represent:\n",
        "\n",
        "x and y: The two numbers that need to be multiplied.\n",
        "\n",
        "n: The length of the larger number among x and y.\n",
        "\n",
        "m: The middle point of n.\n",
        "\n",
        "a, b, c, and d: The split parts of the numbers x and y.\n",
        "\n",
        "ac: The result of multiplying a and c.\n",
        "\n",
        "\n",
        "bd: The result of multiplying b and d.\n",
        "\n",
        "ad_bc: The result of multiplying (a+b) and (c+d) and subtracting ac and bd.\n",
        "\n",
        "result: The final result of the multiplication.\n",
        "\n",
        "\n",
        "\"\"\""
      ],
      "metadata": {
        "id": "lwZS8DuJfIR2"
      },
      "execution_count": null,
      "outputs": []
    },
    {
      "cell_type": "code",
      "source": [
        "#Explain all cases time complexity of above code:-\n",
        "\n",
        "\"\"\"\n",
        "\n",
        "The time complexity of the Karatsuba algorithm is O(n^log_2(3)), where n is the number of digits in the input numbers. The reason for this complexity is that the \n",
        "algorithm recursively breaks down the input numbers into smaller subproblems until they are of size O(1), and then combines the results in a series of O(n) operations.\n",
        "\n",
        "\n",
        "\n",
        "In the code above, the maximum number of digits in the input numbers is found using the max() function. This takes O(log(n)) time where n is the maximum number of \n",
        "digits in the input numbers.\n",
        "\n",
        "\n",
        "\n",
        "The algorithm then performs two divisions and four recursive calls to itself, each of which operate on numbers of roughly half the size of the original inputs. Since the \n",
        "subproblems are of size O(n/2), the total time complexity of the recursive calls is O((n/2)^log_2(3)), which can be simplified to O(n^log_2(3)) using the logarithmic \n",
        "identity log_b(x^c) = c*log_b(x).\n",
        "\n",
        "\n",
        "\n",
        "Finally, the algorithm combines the results of the recursive calls in O(n) time using a series of addition, multiplication, and subtraction operations. Therefore, the overall \n",
        "time complexity of the algorithm is O(n^log_2(3)).\n",
        "\n",
        "Time complexity: The time complexity of Karatsuba algorithm is O(n^log3) which is faster than the traditional multiplication algorithm which has a time complexity of O(n^2).\n",
        "\n",
        "\n",
        "\"\"\""
      ],
      "metadata": {
        "id": "QmkEU9xkfv9J"
      },
      "execution_count": null,
      "outputs": []
    }
  ]
}