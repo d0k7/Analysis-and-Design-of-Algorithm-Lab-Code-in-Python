{
  "nbformat": 4,
  "nbformat_minor": 0,
  "metadata": {
    "colab": {
      "provenance": [],
      "authorship_tag": "ABX9TyM/7xHEez9hDHXZKcEqZW14",
      "include_colab_link": true
    },
    "kernelspec": {
      "name": "python3",
      "display_name": "Python 3"
    },
    "language_info": {
      "name": "python"
    }
  },
  "cells": [
    {
      "cell_type": "markdown",
      "metadata": {
        "id": "view-in-github",
        "colab_type": "text"
      },
      "source": [
        "<a href=\"https://colab.research.google.com/github/d0k7/Analysis-and-Design-of-Algorithm-Lab-Code-in-Python/blob/main/10_To_implement_local_minima_in_array.ipynb\" target=\"_parent\"><img src=\"https://colab.research.google.com/assets/colab-badge.svg\" alt=\"Open In Colab\"/></a>"
      ]
    },
    {
      "cell_type": "code",
      "execution_count": 6,
      "metadata": {
        "colab": {
          "base_uri": "https://localhost:8080/"
        },
        "id": "WDS8317ozMs8",
        "outputId": "0b05d842-6ddd-4e10-980f-983bdb83a11f"
      },
      "outputs": [
        {
          "output_type": "stream",
          "name": "stdout",
          "text": [
            "3\n"
          ]
        }
      ],
      "source": [
        "def find_local_minima(arr):\n",
        "  return next((arr[i] for i in range(1, len(arr) - 1) if arr[i] < arr[i-1] and arr[i] < arr[i+1]), None)\n",
        "print(find_local_minima([9, 6, 3, 7, 5, 2, 1, 8, 4]))\n",
        "\n"
      ]
    },
    {
      "cell_type": "code",
      "source": [
        "def find_local_minima(arr):\n",
        "    return list(filter(lambda x: x[0] < x[1], zip(arr[:-1], arr[1:]))) + [arr[-1]] if arr[-1] < arr[-2] else []\n",
        "\n",
        "# Example usage\n",
        "arr = [9, 6, 3, 7, 5, 2, 1, 8, 4]\n",
        "local_minima = find_local_minima(arr)\n",
        "print(local_minima)  \n",
        "\n",
        "\n"
      ],
      "metadata": {
        "colab": {
          "base_uri": "https://localhost:8080/"
        },
        "id": "VH7-J6Ry0Ky7",
        "outputId": "e92496d4-c047-45c4-c11c-2b3c1d49f5b4"
      },
      "execution_count": 5,
      "outputs": [
        {
          "output_type": "stream",
          "name": "stdout",
          "text": [
            "[(3, 7), (1, 8), 4]\n"
          ]
        }
      ]
    },
    {
      "cell_type": "code",
      "source": [
        "def find_local_minima(array):\n",
        "    minima = []\n",
        "    for i in range(1, len(array) - 1):\n",
        "        if array[i] < array[i - 1] and array[i] < array[i + 1]:\n",
        "            minima.append(array[i])\n",
        "    return minima\n",
        "\n",
        "array = [3, 2, 1, 2, 3]\n",
        "minima = find_local_minima(array)\n",
        "print(minima)  \n"
      ],
      "metadata": {
        "id": "6YMwmfJZsdkp",
        "colab": {
          "base_uri": "https://localhost:8080/"
        },
        "outputId": "932b649c-9b81-474c-81b8-f45171dedb1e"
      },
      "execution_count": 1,
      "outputs": [
        {
          "output_type": "stream",
          "name": "stdout",
          "text": [
            "[1]\n"
          ]
        }
      ]
    },
    {
      "cell_type": "code",
      "source": [
        "\"\"\"\n",
        "#Here is an explanation of the code:\n",
        "\n",
        "\n",
        "The function find_local_minima takes in an array as input, and returns a list of all the local minima in the array.\n",
        "\n",
        "The function first initializes an empty list called minima, which will be used to store the local minima that are found.\n",
        "\n",
        "Then, it uses a for loop to iterate through the array, starting at the second element (since the first element cannot be a local minima). \n",
        "The loop runs until it reaches the second to last element, because the last element cannot be a local minima either.\n",
        "\n",
        "For each element, the function checks if it is smaller than both its predecessor and successor. If it is, then it is a local minima, and the function adds it to the minima list.\n",
        "\n",
        "Finally, the function returns the minima list, which contains all the local minima that were found.\n",
        "\n",
        "\n",
        "\"\"\"\n",
        "\n",
        "\n"
      ],
      "metadata": {
        "id": "VHBgo9iIebiO"
      },
      "execution_count": null,
      "outputs": []
    },
    {
      "cell_type": "code",
      "source": [
        "\"\"\"\n",
        "#Here is a more detailed explanation of the code:\n",
        "\n",
        "\n",
        "def find_local_minima(array):\n",
        "    minima = []  \n",
        "    \n",
        "# Initialize an empty list to store the local minima\n",
        "\n",
        "\n",
        "    for i in range(1, len(array) - 1):  \n",
        "\n",
        "# Iterate through the array, starting at the second element\n",
        "\n",
        "\n",
        "        if array[i] < array[i - 1] and array[i] < array[i + 1]:  \n",
        "# Check if the current element is smaller than both its predecessor and successor\n",
        "\n",
        "\n",
        "            minima.append(array[i])  \n",
        "# If it is, add it to the list of local minima\n",
        "\n",
        "\n",
        "    return minima  \n",
        "    \n",
        "# Return the list of local minima\n",
        "\n",
        "\n",
        "The function find_local_minima takes in an array as input and returns a list of all the local minima in the array.\n",
        "\n",
        "The function first initializes an empty list called minima, which will be used to store the local minima that are found.\n",
        "\n",
        "Then, it uses a for loop to iterate through the array, starting at the second element (since the first element cannot be a local minima). \n",
        "The loop runs until it reaches the second to last element, because the last element cannot be a local minima either. The range function is used \n",
        "to create a sequence of integers from 1 to len(array) - 1, which are used as the loop indices.\n",
        "\n",
        "For each element, the function checks if it is smaller than both its predecessor and successor. This is done using an if statement, which compares the current element (array[i]) with the element before it (array[i - 1]) and the element after it (array[i + 1]). If the current element is smaller than both its predecessor and successor, then it is a local minima, and the function adds it to the minima list using the append method.\n",
        "\n",
        "Finally, the function returns the minima list, which contains all the local minima that were found.\n",
        "\n",
        "\"\"\"\n"
      ],
      "metadata": {
        "id": "f_Gyrc-efGu_"
      },
      "execution_count": null,
      "outputs": []
    },
    {
      "cell_type": "code",
      "source": [
        "\"\"\"\n",
        "\n",
        "#Time complexity of above code:-\n",
        "\n",
        "The time complexity of the code to find local minima in an array is O(n), where n is the length of the array.\n",
        "\n",
        "In the worst case, the code will need to iterate through the entire array to find all the local minima. Therefore, the time complexity is linear with respect \n",
        "to the size of the array.\n",
        "\n",
        "Note that this time complexity assumes that the array is already sorted and does not need to be sorted before running the algorithm. If the array is not sorted, \n",
        "the time complexity would be higher, since the array would need to be sorted first.\n",
        "\n",
        "\"\"\""
      ],
      "metadata": {
        "id": "RqV-VtItgYzJ"
      },
      "execution_count": null,
      "outputs": []
    }
  ]
}