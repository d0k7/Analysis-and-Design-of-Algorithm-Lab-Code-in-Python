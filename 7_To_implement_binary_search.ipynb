{
  "nbformat": 4,
  "nbformat_minor": 0,
  "metadata": {
    "colab": {
      "provenance": [],
      "authorship_tag": "ABX9TyPG4Ig+Y3Aazr1Ozh/tuhWj",
      "include_colab_link": true
    },
    "kernelspec": {
      "name": "python3",
      "display_name": "Python 3"
    },
    "language_info": {
      "name": "python"
    }
  },
  "cells": [
    {
      "cell_type": "markdown",
      "metadata": {
        "id": "view-in-github",
        "colab_type": "text"
      },
      "source": [
        "<a href=\"https://colab.research.google.com/github/d0k7/Analysis-and-Design-of-Algorithm-Lab-Code-in-Python/blob/main/7_To_implement_binary_search.ipynb\" target=\"_parent\"><img src=\"https://colab.research.google.com/assets/colab-badge.svg\" alt=\"Open In Colab\"/></a>"
      ]
    },
    {
      "cell_type": "code",
      "execution_count": 12,
      "metadata": {
        "colab": {
          "base_uri": "https://localhost:8080/"
        },
        "id": "AF0wrhLCPv68",
        "outputId": "f568fd73-77fa-418b-d644-0f96521bba05"
      },
      "outputs": [
        {
          "output_type": "stream",
          "name": "stdout",
          "text": [
            "3\n"
          ]
        }
      ],
      "source": [
        "def binary_search(arr, target):\n",
        "  low, high = 0, len(arr) - 1\n",
        "  while low <= high:\n",
        "    mid = (low + high) // 2\n",
        "    if arr[mid] < target:\n",
        "      low = mid + 1\n",
        "    elif target < arr[mid]:\n",
        "      high = mid - 1\n",
        "    else:\n",
        "      return mid\n",
        "  return -1\n",
        "  \n",
        "\n",
        "arr = [1, 2, 3, 4, 5]\n",
        "target  = 4\n",
        "index = binary_search(arr, target)\n",
        "print(index)  \n"
      ]
    },
    {
      "cell_type": "code",
      "source": [
        "def binary_search(arr, target):\n",
        "  low, high = 0, len(arr) - 1\n",
        "  while low <= high:\n",
        "    mid = (low + high) // 2\n",
        "    if arr[mid] < target:\n",
        "      low = mid + 1\n",
        "    elif target < arr[mid]:\n",
        "      high = mid - 1\n",
        "    else:\n",
        "      return mid\n",
        "  return -1\n",
        "\n",
        "arr = [1, 2, 3, 4, 5]\n",
        "target  = 4\n",
        "index = binary_search(arr, target)\n",
        "\n",
        "if index == -1:\n",
        "  print(\"Element not found\")\n",
        "else:\n",
        "  print(index)\n"
      ],
      "metadata": {
        "colab": {
          "base_uri": "https://localhost:8080/"
        },
        "id": "4nbru2tiQd6d",
        "outputId": "6c54e02e-12ed-473e-b20a-950d3bdfdb10"
      },
      "execution_count": 7,
      "outputs": [
        {
          "output_type": "stream",
          "name": "stdout",
          "text": [
            "3\n"
          ]
        }
      ]
    },
    {
      "cell_type": "code",
      "source": [
        "\"\"\"\n",
        "Here is a more detailed explanation of the code:\n",
        "\n",
        "The function binary_search takes in two arguments: an array arr and a target value target. It returns the index of the target value in the array, \n",
        "or -1 if the value is not present in the array.\n",
        "\n",
        "The function starts by setting the low index to 0 and the high index to len(arr) - 1, which are the start and end indices of the array. \n",
        "It then enters a loop that continues as long as low is less than or equal to high.\n",
        "\n",
        "Inside the loop, the function calculates the midpoint between low and high using integer division and assigns it to the variable mid. \n",
        "It then compares the value at the midpoint, arr[mid], with the target value. If arr[mid] is less than the target value, \n",
        "it sets low to mid + 1. If arr[mid] is greater than the target value, it sets high to mid - 1. If arr[mid] is equal to the target value, it returns mid.\n",
        "\n",
        "The loop continues until the target value is found or low becomes greater than high, at which point the function returns -1 to indicate that the target value was not found.\n",
        "\n",
        "In the example provided, the input array is [1, 2, 3, 4, 5] and the target value is 4. The function starts by setting low to 0 and high to 4. \n",
        "The midpoint is calculated as (0 + 4) // 2 = 2, so arr[mid] is equal to 3. Since 3 is less than 4, the low index is set to mid + 1 = 3. \n",
        "The midpoint is then calculated as (3 + 4) // 2 = 3, so arr[mid] is equal to 4. Since 4 is equal to the target value, the function returns mid, which is 3.\n",
        "\n",
        "\"\"\""
      ],
      "metadata": {
        "id": "NyOQZWK4R0yn"
      },
      "execution_count": null,
      "outputs": []
    },
    {
      "cell_type": "code",
      "source": [
        "\"\"\"\n",
        "Line-by-line explanation of the code:\n",
        "\n",
        "def binary_search(arr, target):\n",
        "\n",
        "This line defines a function called binary_search that takes in two arguments: an array arr and a target value target.\n",
        "\n",
        "\n",
        "\n",
        "  low, high = 0, len(arr) - 1\n",
        "\n",
        "\n",
        "This line sets the low index to 0 and the high index to len(arr) - 1, which are the start and end indices of the array.\n",
        "\n",
        "\n",
        "  while low <= high:\n",
        "\n",
        "This line starts a loop that will continue as long as low is less than or equal to high.  \n",
        "\n",
        "\n",
        "\n",
        "    mid = (low + high) // 2\n",
        "\n",
        "This line calculates the midpoint between low and high using integer division and assigns it to the variable mid.\n",
        "\n",
        "\n",
        "\n",
        "    if arr[mid] < target:\n",
        "      low = mid + 1\n",
        "    elif target < arr[mid]:\n",
        "      high = mid - 1\n",
        "    else:\n",
        "      return mid\n",
        "\n",
        "\n",
        "This block of code compares the value at the midpoint, arr[mid], with the target value. If arr[mid] is less than the target value, \n",
        "it sets low to mid + 1. If arr[mid] is greater than the target value, it sets high to mid - 1. If arr[mid] is equal to the target value, it returns mid.\n",
        "\n",
        "\n",
        "\n",
        "  return -1\n",
        "\n",
        "\n",
        "This line is executed if the loop completes and the target value has not been found. It returns -1 to indicate that the target value was not found.\n",
        "\n",
        "\n",
        "\"\"\""
      ],
      "metadata": {
        "id": "YB4kopk4Tk17"
      },
      "execution_count": null,
      "outputs": []
    },
    {
      "cell_type": "code",
      "source": [
        "# Time Complexity of code :-\n",
        "\n",
        "\"\"\"\n",
        "\n",
        "The time complexity of the binary search algorithm implemented in the provided code is O(log n) in the worst case and O(1) in the best case.\n",
        "\n",
        "In the worst case, the algorithm has to search through half of the array on each iteration of the loop until it finds the target value or determines \n",
        "that it is not present in the array. This means that the number of iterations is logarithmic in the size of the array, giving the algorithm a time complexity of O(log n).\n",
        "\n",
        "In the best case, the target value is found on the first iteration of the loop, resulting in a time complexity of O(1).\n",
        "\n",
        "It's worth noting that the time complexity of the algorithm depends on the input array being sorted. If the array is not sorted, \n",
        "the algorithm will not be able to effectively narrow down the search space on each iteration and will have a time complexity of O(n) in the worst case.\n",
        "\n",
        "\"\"\""
      ],
      "metadata": {
        "id": "MXiKsR5YVZvj"
      },
      "execution_count": null,
      "outputs": []
    },
    {
      "cell_type": "code",
      "source": [
        "# Algorithm of Binary Search:-\n",
        "\n",
        "\"\"\"\n",
        "\n",
        "Here's how the binary search algorithm works:\n",
        "\n",
        "It first sets the low index to 0 and the high index to len(arr) - 1, which in this case would be 4.\n",
        "\n",
        "It then enters a loop that continues as long as low is less than or equal to high.\n",
        "\n",
        "It calculates the midpoint between low and high using integer division and assigns it to the variable mid.\n",
        "\n",
        "It then compares the value at the midpoint, arr[mid], with the target value. If arr[mid] is less than the target value, \n",
        "it sets low to mid + 1. If arr[mid] is greater than the target value, it sets high to mid - 1. If arr[mid] is equal to the target value, it returns mid.\n",
        "\n",
        "If the loop completes and the target value has not been found, the function returns -1.\n",
        "\n",
        "This algorithm has a time complexity of O(log n), which means it is efficient for searching through large arrays. \n",
        "It works by continuously dividing the search space in half until the target value is found, which makes it much faster than \n",
        "linear search algorithms that have to check every element in the array one by one.\n",
        "\n",
        "\"\"\""
      ],
      "metadata": {
        "id": "-LBSwUGBVtrF"
      },
      "execution_count": null,
      "outputs": []
    }
  ]
}