{
  "nbformat": 4,
  "nbformat_minor": 0,
  "metadata": {
    "colab": {
      "provenance": [],
      "authorship_tag": "ABX9TyOV3PPhMv4H2QHBlLo/3vPZ",
      "include_colab_link": true
    },
    "kernelspec": {
      "name": "python3",
      "display_name": "Python 3"
    },
    "language_info": {
      "name": "python"
    }
  },
  "cells": [
    {
      "cell_type": "markdown",
      "metadata": {
        "id": "view-in-github",
        "colab_type": "text"
      },
      "source": [
        "<a href=\"https://colab.research.google.com/github/d0k7/Analysis-and-Design-of-Algorithm-Lab-Code-in-Python/blob/main/18_To_implement_shortest_path_in_majority_element_problem.ipynb\" target=\"_parent\"><img src=\"https://colab.research.google.com/assets/colab-badge.svg\" alt=\"Open In Colab\"/></a>"
      ]
    },
    {
      "cell_type": "code",
      "execution_count": 2,
      "metadata": {
        "colab": {
          "base_uri": "https://localhost:8080/"
        },
        "id": "qgk3RZcoTsmX",
        "outputId": "943862b9-4ca8-4adf-cdac-246169d4b64c"
      },
      "outputs": [
        {
          "output_type": "stream",
          "name": "stdout",
          "text": [
            "1\n"
          ]
        }
      ],
      "source": [
        "def majority_element_shortest_path(arr):\n",
        "    majority_element = max(set(arr), key=arr.count)\n",
        "    try:\n",
        "        return arr.index(majority_element, 1) - arr.index(majority_element) + 1\n",
        "    except ValueError:\n",
        "        return 0\n",
        "\n",
        "arr = [1, 2, 2, 2, 3, 4, 2]\n",
        "shortest_path = majority_element_shortest_path(arr)\n",
        "print(shortest_path)  \n"
      ]
    },
    {
      "cell_type": "code",
      "source": [
        "# Explanation of above code :- \n",
        "\n",
        "\"\"\"\n",
        "\n",
        "The function majority_element_shortest_path() takes an input array arr and returns the length of the shortest subarray that contains the majority element of arr. \n",
        "Here's how it works:\n",
        "\n",
        "\n",
        "\n",
        "The first line of the function uses the built-in max() function to find the element that occurs most frequently in arr, which is the majority element. The key argument is \n",
        "set to the count() method of arr, which counts the number of occurrences of each element in the list.\n",
        "\n",
        "\n",
        "\n",
        "The try block of the function attempts to find the first and last occurrences of the majority element in arr using the index() method. If the majority element occurs \n",
        "only once in the array, the index() method will raise a ValueError, which is caught by the except block. In this case, the function returns 0 because there \n",
        "is no subarray containing the majority element.\n",
        "\n",
        "\n",
        "\n",
        "If the majority element occurs more than once in the array, the function subtracts the index of the first occurrence from the index of the second occurrence and \n",
        "adds 1 to get the length of the shortest subarray containing the majority element. The + 1 is necessary because the index() method returns the index of the first \n",
        "occurrence of the majority element, but we want to include both the first and last occurrences in the subarray.\n",
        "\n",
        "\n",
        "\n",
        "Finally, the function returns the length of the shortest subarray containing the majority element.\n",
        "\n",
        "\n",
        "\n",
        "\"\"\""
      ],
      "metadata": {
        "id": "QOw04PSiUwr5"
      },
      "execution_count": null,
      "outputs": []
    },
    {
      "cell_type": "code",
      "source": [
        "#Explain all cases time complexity of above code:-\n",
        "\n",
        "\"\"\"\n",
        "\n",
        "The time complexity of the majority_element_shortest_path() function depends on several factors:\n",
        "\n",
        "\n",
        "\n",
        "Finding the majority element using the max() function takes O(n) time, where n is the length of the input array arr. This is because the max() function has to count the \n",
        "occurrences of each element in the array to find the element that occurs most frequently.\n",
        "\n",
        "\n",
        "\n",
        "Finding the first and last occurrences of the majority element using the index() method takes O(n) time in the worst case, where n is the length of the input array. This is \n",
        "because the index() method has to search through the entire array to find each occurrence of the majority element. In the best case, where the majority \n",
        "element occurs only once or twice in the array, the index() method takes O(1) time because it only needs to check the first few elements of the array.\n",
        "\n",
        "\n",
        "\n",
        "Subtracting the indices of the first and last occurrences of the majority element takes O(1) time, because it is a constant-time operation.\n",
        "\n",
        "\n",
        "\n",
        "Overall, the time complexity of the majority_element_shortest_path() function is O(n), where n is the length of the input array. This is because the most time-consuming \n",
        "step of the function is finding the majority element, which takes O(n) time. The other steps of the function take constant time or linear time in the length of the input array.\n",
        "\n",
        "\n",
        "\"\"\""
      ],
      "metadata": {
        "id": "ji2QUer5Vo4D"
      },
      "execution_count": null,
      "outputs": []
    }
  ]
}