{
  "nbformat": 4,
  "nbformat_minor": 0,
  "metadata": {
    "colab": {
      "provenance": [],
      "authorship_tag": "ABX9TyMOoHS1ntzoHF62yW7B/kZW",
      "include_colab_link": true
    },
    "kernelspec": {
      "name": "python3",
      "display_name": "Python 3"
    },
    "language_info": {
      "name": "python"
    }
  },
  "cells": [
    {
      "cell_type": "markdown",
      "metadata": {
        "id": "view-in-github",
        "colab_type": "text"
      },
      "source": [
        "<a href=\"https://colab.research.google.com/github/d0k7/Analysis-and-Design-of-Algorithm-Lab-Code-in-Python/blob/main/22_To_implement_multiplication_of_2_numbers_quick_Sort_using_divide_and_conquer_approach.ipynb\" target=\"_parent\"><img src=\"https://colab.research.google.com/assets/colab-badge.svg\" alt=\"Open In Colab\"/></a>"
      ]
    },
    {
      "cell_type": "code",
      "execution_count": 1,
      "metadata": {
        "colab": {
          "base_uri": "https://localhost:8080/"
        },
        "id": "ukHsTPoogY4_",
        "outputId": "0c5221f8-7743-443c-8044-d06f6858133f"
      },
      "outputs": [
        {
          "output_type": "stream",
          "name": "stdout",
          "text": [
            "[1, 2, 3, 4, 5, 5, 7, 8, 9]\n"
          ]
        }
      ],
      "source": [
        "def quick_sort(arr):\n",
        "    if len(arr) <= 1:\n",
        "        return arr\n",
        "\n",
        "    pivot = arr[0]\n",
        "    left = []\n",
        "    right = []\n",
        "\n",
        "    for i in range(1, len(arr)):\n",
        "        if arr[i] < pivot:\n",
        "            left.append(arr[i])\n",
        "        else:\n",
        "            right.append(arr[i])\n",
        "\n",
        "    return quick_sort(left) + [pivot] + quick_sort(right)\n",
        "\n",
        "arr = [3, 7, 8, 5, 2, 1, 9, 5, 4]\n",
        "print(quick_sort(arr)) \n",
        "\n",
        "\n"
      ]
    },
    {
      "cell_type": "code",
      "source": [
        "# Explanation of above code :-\n",
        "\n",
        "\"\"\"\n",
        "\n",
        "The function takes an array arr as input and checks if the length of the array is less than or equal to 1. If yes, it returns the array since there's no need to sort \n",
        "an array of length 1.\n",
        "\n",
        "\n",
        "\n",
        "If the length of the array is greater than 1, it selects a pivot element from the array. The pivot element can be any element in the array, \n",
        "but in this implementation, the first element of the array is selected as the pivot.\n",
        "\n",
        "\n",
        "\n",
        "The function partitions the array around the pivot element by placing all the elements smaller than the pivot to the left of the pivot and all the elements greater \n",
        "than the pivot to the right of the pivot.\n",
        "\n",
        "\n",
        "\n",
        "The function recursively calls itself on the left and right sub-arrays created by the partition step.\n",
        "\n",
        "\n",
        "\n",
        "Once the recursion is complete, the function returns the sorted array.\n",
        "\n",
        "\n",
        "\n",
        "The time complexity of this algorithm is O(n log n) in the average and best cases, where n is the length of the array. The worst-case time complexity occurs \n",
        "when the pivot is chosen poorly, such as when the array is already sorted, and the time complexity becomes O(n^2). However, this can be avoided by selecting \n",
        "a good pivot, such as the median of the sub-array or a random element. The space complexity of the algorithm is O(log n) due to the recursive calls made on the \n",
        "sub-arrays. Overall, Quick Sort using Divide and Conquer Approach provides an efficient solution for sorting an array with an average time complexity of O(n log n).\n",
        "\n",
        "\n",
        "\"\"\""
      ],
      "metadata": {
        "id": "As4HuSJIjxVP"
      },
      "execution_count": null,
      "outputs": []
    },
    {
      "cell_type": "code",
      "source": [
        "#Explain all cases time complexity of above code:-\n",
        "\n",
        "\n",
        "\"\"\"\n",
        "\n",
        "Best Case: The best case occurs when the pivot element chosen is the median of the sub-array. In this case, the algorithm will divide the array into two halves of \n",
        "equal size at each recursion level, resulting in a balanced tree of recursive calls. The time complexity of this case is O(n log n).\n",
        "\n",
        "\n",
        "\n",
        "Worst Case: The worst case occurs when the pivot element chosen is the smallest or largest element in the sub-array. In this case, the algorithm will \n",
        "partition the array into two sub-arrays of size n-1 and 0, resulting in a linear tree of recursive calls. The time complexity of this case is O(n^2).\n",
        "\n",
        "\n",
        "\n",
        "Average Case: The average case occurs when the pivot element chosen is randomly selected from the sub-array. In this case, the algorithm will divide the \n",
        "array into two halves that are roughly equal in size, resulting in a balanced tree of recursive calls. The time complexity of this case is O(n log n).\n",
        "\n",
        "\n",
        "\n",
        "The space complexity of the algorithm is O(log n) due to the recursive calls made on the sub-arrays. Overall, Quick Sort using Divide and Conquer Approach provides \n",
        "an efficient solution for sorting an array with an average time complexity of O(n log n) and a worst-case time complexity of O(n^2).\n",
        "\n",
        "\n",
        "\"\"\""
      ],
      "metadata": {
        "id": "HLfx4LQJk8uo"
      },
      "execution_count": null,
      "outputs": []
    }
  ]
}