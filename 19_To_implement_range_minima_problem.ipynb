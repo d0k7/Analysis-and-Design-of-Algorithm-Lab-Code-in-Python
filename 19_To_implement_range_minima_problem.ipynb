{
  "nbformat": 4,
  "nbformat_minor": 0,
  "metadata": {
    "colab": {
      "provenance": [],
      "authorship_tag": "ABX9TyMwpmJA2wHoF+p39h7NIbKM",
      "include_colab_link": true
    },
    "kernelspec": {
      "name": "python3",
      "display_name": "Python 3"
    },
    "language_info": {
      "name": "python"
    }
  },
  "cells": [
    {
      "cell_type": "markdown",
      "metadata": {
        "id": "view-in-github",
        "colab_type": "text"
      },
      "source": [
        "<a href=\"https://colab.research.google.com/github/d0k7/Analysis-and-Design-of-Algorithm-Lab-Code-in-Python/blob/main/19_To_implement_range_minima_problem.ipynb\" target=\"_parent\"><img src=\"https://colab.research.google.com/assets/colab-badge.svg\" alt=\"Open In Colab\"/></a>"
      ]
    },
    {
      "cell_type": "code",
      "execution_count": 5,
      "metadata": {
        "colab": {
          "base_uri": "https://localhost:8080/"
        },
        "id": "JHbpgveVWNt7",
        "outputId": "4a36988b-a385-4394-bf63-708b655e4e28"
      },
      "outputs": [
        {
          "output_type": "stream",
          "name": "stdout",
          "text": [
            "2\n"
          ]
        }
      ],
      "source": [
        "import math\n",
        "\n",
        "def build_st(arr):\n",
        "    n = len(arr)\n",
        "    j = int(math.log2(n)) + 1\n",
        "    st = [[0] * j for _ in range(n)]\n",
        "    for i in range(n):\n",
        "        st[i][0] = arr[i]\n",
        "    for j in range(1, int(math.log2(n))+1):\n",
        "        for i in range(n - (1 << j) + 1):\n",
        "            st[i][j] = min(st[i][j-1], st[i+(1<<(j-1))][j-1])\n",
        "    return st\n",
        "\n",
        "def query(st, l, r):\n",
        "    j = int(math.log2(r - l + 1))\n",
        "    return min(st[l][j], st[r-(1<<j)+1][j])\n",
        "\n",
        "arr = [5, 3, 8, 2, 7, 1, 9]\n",
        "l, r = 1, 4\n",
        "st = build_st(arr)\n",
        "print(query(st, l, r))  \n"
      ]
    },
    {
      "cell_type": "code",
      "source": [
        "# Explanation of above code :- \n",
        "\n",
        "\"\"\"\n",
        "\n",
        "build_st(arr) is a function that builds the segment tree for the input array arr.\n",
        "\n",
        "\n",
        "n is the length of the input array arr, and j is the number of levels in the segment tree, which is equal to the ceiling of the base 2 logarithm of n.\n",
        "\n",
        "\n",
        "st is a 2D array of size n x j that represents the segment tree.\n",
        "\n",
        "\n",
        "The base case of the segment tree is that the leaf nodes represent the elements of the input array arr, so st[i][0] = arr[i] for all i.\n",
        "\n",
        "\n",
        "For each level j of the segment tree, the values of the nodes are computed using the values of the nodes from the previous level j-1.\n",
        "\n",
        "\n",
        "The segment tree is built in a bottom-up manner, starting with the leaf nodes and going up to the root node.\n",
        "\n",
        "\n",
        "query(st, l, r) is a function that queries the segment tree for the minimum value in the range [l, r] of the input array arr.\n",
        "\n",
        "\n",
        "The index j of the minimum value in the range [l, r] is computed as the floor of the base 2 logarithm of the length of the range r-l+1.\n",
        "\n",
        "\n",
        "The minimum value in the range [l, r] is then computed as the minimum of the values at the two nodes in the segment tree that cover the range [l, r].\n",
        "\n",
        "\n",
        "The two nodes are the node at index l in the j-th level of the segment tree, and the node at index r-(1<<j)+1 in the j-th level of the segment tree.\n",
        "\n",
        "\n",
        "\n",
        "\n",
        "\"\"\""
      ],
      "metadata": {
        "id": "3XM7eG64Zib2"
      },
      "execution_count": null,
      "outputs": []
    },
    {
      "cell_type": "code",
      "source": [
        "#Explain all cases time complexity of above code:-\n",
        "\n",
        "\"\"\"\n",
        "\n",
        "The time complexity of the above code is as follows:\n",
        "\n",
        "\n",
        "\n",
        "Building the sparse table takes O(n log n) time, where n is the size of the input array.\n",
        "\n",
        "\n",
        "Each query takes O(1) time, since it only involves two lookups in the sparse table.\n",
        "\n",
        "\n",
        "Therefore, if we have q queries, the total time complexity of answering all the queries is O(q).\n",
        "\n",
        "\n",
        "In summary, the time complexity of building the sparse table dominates the overall time complexity, so the total time complexity is O(n log n) for preprocessing and O(q) for\n",
        "answering queries.\n",
        "\n",
        "\n",
        "\n",
        "\n",
        "\"\"\""
      ],
      "metadata": {
        "id": "5E0gq2Sya6WI"
      },
      "execution_count": null,
      "outputs": []
    }
  ]
}