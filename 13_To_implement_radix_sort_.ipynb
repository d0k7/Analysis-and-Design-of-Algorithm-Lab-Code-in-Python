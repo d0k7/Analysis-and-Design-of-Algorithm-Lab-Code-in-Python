{
  "nbformat": 4,
  "nbformat_minor": 0,
  "metadata": {
    "colab": {
      "provenance": [],
      "authorship_tag": "ABX9TyPuPLqmSFqhh6iMsqF/jJGD",
      "include_colab_link": true
    },
    "kernelspec": {
      "name": "python3",
      "display_name": "Python 3"
    },
    "language_info": {
      "name": "python"
    }
  },
  "cells": [
    {
      "cell_type": "markdown",
      "metadata": {
        "id": "view-in-github",
        "colab_type": "text"
      },
      "source": [
        "<a href=\"https://colab.research.google.com/github/d0k7/Analysis-and-Design-of-Algorithm-Lab-Code-in-Python/blob/main/13_To_implement_radix_sort_.ipynb\" target=\"_parent\"><img src=\"https://colab.research.google.com/assets/colab-badge.svg\" alt=\"Open In Colab\"/></a>"
      ]
    },
    {
      "cell_type": "code",
      "execution_count": 1,
      "metadata": {
        "colab": {
          "base_uri": "https://localhost:8080/"
        },
        "id": "xrbttLxJ2Joz",
        "outputId": "3ec066c1-2be7-4f29-8787-12bcfa15d5e3"
      },
      "outputs": [
        {
          "output_type": "stream",
          "name": "stdout",
          "text": [
            "[2, 24, 45, 66, 75, 90, 170, 802]\n"
          ]
        }
      ],
      "source": [
        "def radix_sort(arr):\n",
        "    for digit in range(len(str(max(arr)))):\n",
        "        arr = sorted(arr, key=lambda x: (x // 10**digit) % 10)\n",
        "    return arr\n",
        "\n",
        "arr = [170, 45, 75, 90, 802, 24, 2, 66]\n",
        "sorted_arr = radix_sort(arr)\n",
        "print(sorted_arr)\n"
      ]
    },
    {
      "cell_type": "code",
      "source": [
        "# Explanation of above code:-\n",
        "\n",
        "\"\"\"\n",
        "\n",
        "Here's an explanation of the code in points:\n",
        "\n",
        "Define a function radix_sort that takes a list arr as its argument.\n",
        "\n",
        "\n",
        "Determine the number of digits in the largest number in arr by converting it to a string and getting its length using the len function.\n",
        "\n",
        "\n",
        "Loop through each digit position from right to left using the range function.\n",
        "\n",
        "\n",
        "Sort arr using the built-in sorted function, passing a lambda function as the key argument. \n",
        "The lambda function extracts the current digit being sorted by dividing each number by 10 to the power of the current digit, \n",
        "then taking the modulus of 10 to get the value of that digit.\n",
        "\n",
        "\n",
        "Update arr with the sorted list returned by the sorted function.\n",
        "\n",
        "\n",
        "Return the sorted array at the end of the loop.\n",
        "\n",
        "\n",
        "The radix_sort function uses the radix sort algorithm to sort the input list arr in non-decreasing order. In this implementation, \n",
        "we determine the number of digits in the largest number in the list, then loop through each digit position from right to left. We sort the list at each digit \n",
        "position using the built-in sorted function, passing a lambda function as the key argument to extract the current digit being sorted. \n",
        "We then update the list with the sorted version and repeat the loop until all digits have been sorted. Finally, we return the sorted list.\n",
        "\n",
        "\"\"\"\n",
        "\n"
      ],
      "metadata": {
        "id": "6Mt3i6pw2yfB"
      },
      "execution_count": null,
      "outputs": []
    },
    {
      "cell_type": "code",
      "source": [
        "# All case time complexity code:-\n",
        "\n",
        "\"\"\"\n",
        "\n",
        "The time complexity of radix sort depends on the number of digits in the input numbers and the sorting algorithm used for each digit. In the case of the above implementation, \n",
        "the time complexity can be broken down as follows:\n",
        "\n",
        "\n",
        "\n",
        "Determining the number of digits in the largest number in the list has a time complexity of O(n), where n is the number of elements in the list.\n",
        "\n",
        "\n",
        "Looping through each digit position from right to left has a time complexity of O(d), where d is the number of digits in the largest number in the list.\n",
        "\n",
        "\n",
        "Sorting the list at each digit position has a time complexity of O(n log n) in the worst case using the built-in sorted function.\n",
        "\n",
        "\n",
        "Updating the list with the sorted version has a time complexity of O(n) in the worst case.\n",
        "\n",
        "\n",
        "Therefore, the overall time complexity of radix sort using this implementation is O(d * n log n), where d is the number of digits in the largest number in the list.\n",
        "\n",
        "\n",
        "\n",
        "Note that this time complexity assumes that each number in the input list has roughly the same number of digits. If the numbers have a wide range of digit lengths, \n",
        "the time complexity may be worse. Additionally, the use of a more efficient sorting algorithm than sorted (such as quicksort or heapsort) could improve the \n",
        "time complexity of sorting at each digit position.\n",
        "\n",
        "\"\"\""
      ],
      "metadata": {
        "id": "_3qGZgb43c13"
      },
      "execution_count": null,
      "outputs": []
    }
  ]
}