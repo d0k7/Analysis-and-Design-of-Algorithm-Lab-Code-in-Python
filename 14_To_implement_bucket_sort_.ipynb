{
  "nbformat": 4,
  "nbformat_minor": 0,
  "metadata": {
    "colab": {
      "provenance": [],
      "authorship_tag": "ABX9TyMkvy+HuBdPyCFt5ktPli/V",
      "include_colab_link": true
    },
    "kernelspec": {
      "name": "python3",
      "display_name": "Python 3"
    },
    "language_info": {
      "name": "python"
    }
  },
  "cells": [
    {
      "cell_type": "markdown",
      "metadata": {
        "id": "view-in-github",
        "colab_type": "text"
      },
      "source": [
        "<a href=\"https://colab.research.google.com/github/d0k7/Analysis-and-Design-of-Algorithm-Lab-Code-in-Python/blob/main/14_To_implement_bucket_sort_.ipynb\" target=\"_parent\"><img src=\"https://colab.research.google.com/assets/colab-badge.svg\" alt=\"Open In Colab\"/></a>"
      ]
    },
    {
      "cell_type": "code",
      "execution_count": 1,
      "metadata": {
        "colab": {
          "base_uri": "https://localhost:8080/"
        },
        "id": "eGMerP4m4EVK",
        "outputId": "8b743ba4-8434-4739-e10e-cd0b4bab306f"
      },
      "outputs": [
        {
          "output_type": "stream",
          "name": "stdout",
          "text": [
            "[0.1, 0.2, 0.3, 0.4, 0.5, 0.6, 0.7, 0.8, 0.9]\n"
          ]
        }
      ],
      "source": [
        "def bucket_sort(arr):\n",
        "    buckets = [[] for _ in range(len(arr))]\n",
        "    for i in arr:\n",
        "        buckets[int(i)].append(i)\n",
        "    return [j for i in buckets for j in sorted(i)]\n",
        "\n",
        "arr = [0.7, 0.2, 0.1, 0.9, 0.5, 0.8, 0.3, 0.4, 0.6]\n",
        "sorted_arr = bucket_sort(arr)\n",
        "print(sorted_arr)\n"
      ]
    },
    {
      "cell_type": "code",
      "source": [
        "# Explanation of above code:-\n",
        "\n",
        "\"\"\"\n",
        "\n",
        "The bucket_sort function implements the bucket sort algorithm, which is a sorting algorithm that works by partitioning an array into a number of smaller \"buckets\", \n",
        "and then sorting each bucket individually. Here is a step-by-step explanation of the function:\n",
        "\n",
        "1) The function takes an array arr as input and creates a list of empty buckets. The number of buckets is equal to the length of the input array.\n",
        "buckets = [[] for _ in range(len(arr))]\n",
        "\n",
        "\n",
        "2)The function then loops through each element in the input array and determines the index of the appropriate bucket for that element. \n",
        "It does this by multiplying the element by the length of the array, rounding down to the nearest integer, and using that as the index.\n",
        "for i in arr:\n",
        "    buckets[int(i * len(arr))].append(i)\n",
        "\n",
        "\n",
        "3)After all elements have been added to their respective buckets, the function sorts each bucket using the built-in sorted function.\n",
        "return [j for i in buckets for j in sorted(i)]\n",
        "\n",
        "4)Finally, the function concatenates all the sorted buckets into a single list and returns it.\n",
        "\n",
        "\n",
        "Overall, the bucket sort algorithm has a time complexity of O(n+k), where n is the number of elements in the input array and k is the number of buckets. \n",
        "The algorithm can be particularly efficient when the input elements are uniformly distributed over a range, as the buckets can be roughly the same size \n",
        "and sorting each bucket can be done relatively quickly.\n",
        "\n",
        "\n",
        "\n",
        "\n",
        "\"\"\""
      ],
      "metadata": {
        "id": "WgO6n8-e4ahA"
      },
      "execution_count": null,
      "outputs": []
    },
    {
      "cell_type": "code",
      "source": [
        "# All case time complexity of above code:-\n",
        "\n",
        "\"\"\"\n",
        "\n",
        "The time complexity of the bucket sort algorithm depends on the size of the input array and the number of buckets used. Here are the time complexities for various cases:\n",
        "\n",
        "Best case: The best case occurs when the input elements are uniformly distributed over a range and the number of buckets is close to the size of the input array. In this case, \n",
        "the time complexity is O(n), where n is the number of elements in the input array. This is because each element can be placed into its own bucket, \n",
        "and sorting each bucket takes O(1) time.\n",
        "\n",
        "\n",
        "\n",
        "Average case: The average case occurs when the input elements are randomly distributed and the number of buckets is proportional to the size of the input array. In this case, \n",
        "the time complexity is O(n+k), where n is the number of elements in the input array and k is the number of buckets.\n",
        "\n",
        "\n",
        "\n",
        "Worst case: The worst case occurs when all elements in the input array are placed into the same bucket. In this case, the time complexity is O(n^2), as each bucket contains \n",
        "all the elements and the built-in sorted function takes O(nlogn) time to sort each bucket.\n",
        "\n",
        "\n",
        "\n",
        "Overall, the bucket sort algorithm can be an efficient sorting algorithm for certain input distributions, but may perform poorly for other input distributions. \n",
        "The choice of the number of buckets can also have a significant impact on the performance of the algorithm.\n",
        "\n",
        "\"\"\""
      ],
      "metadata": {
        "id": "yVww57dT4wX-"
      },
      "execution_count": null,
      "outputs": []
    }
  ]
}