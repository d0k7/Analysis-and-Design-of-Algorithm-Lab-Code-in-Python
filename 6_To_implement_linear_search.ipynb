{
  "nbformat": 4,
  "nbformat_minor": 0,
  "metadata": {
    "colab": {
      "provenance": [],
      "authorship_tag": "ABX9TyOX2oIX44EbuXWcFhIyhJfI",
      "include_colab_link": true
    },
    "kernelspec": {
      "name": "python3",
      "display_name": "Python 3"
    },
    "language_info": {
      "name": "python"
    }
  },
  "cells": [
    {
      "cell_type": "markdown",
      "metadata": {
        "id": "view-in-github",
        "colab_type": "text"
      },
      "source": [
        "<a href=\"https://colab.research.google.com/github/d0k7/Analysis-and-Design-of-Algorithm-Lab-Code-in-Python/blob/main/6_To_implement_linear_search.ipynb\" target=\"_parent\"><img src=\"https://colab.research.google.com/assets/colab-badge.svg\" alt=\"Open In Colab\"/></a>"
      ]
    },
    {
      "cell_type": "code",
      "execution_count": 4,
      "metadata": {
        "colab": {
          "base_uri": "https://localhost:8080/"
        },
        "id": "TimcbOMDImbM",
        "outputId": "9a3352c5-4a64-4088-c70d-dc487e689490"
      },
      "outputs": [
        {
          "output_type": "stream",
          "name": "stdout",
          "text": [
            "5 found at index 4\n"
          ]
        }
      ],
      "source": [
        "#1st code:-\n",
        "\n",
        "def linear_search(arr, x):\n",
        "    for i in range(len(arr)):\n",
        "        if arr[i] == x:\n",
        "            return i\n",
        "    return -1\n",
        "\n",
        "arr = [1, 2, 3, 4, 5]\n",
        "x = 5\n",
        "\n",
        "index = linear_search(arr, x)\n",
        "if index == -1:\n",
        "    print(f\"{x} not found in array\")\n",
        "else:\n",
        "    print(f\"{x} found at index {index}\")\n"
      ]
    },
    {
      "cell_type": "code",
      "source": [
        "#2nd code:-\n",
        "\n",
        "def linear_search(arr, x):\n",
        "    return arr.index(x) if x in arr else -1\n",
        "\n",
        "arr = [1, 2, 3, 4, 5]\n",
        "x = 3\n",
        "\n",
        "index = linear_search(arr, x)\n",
        "if index == -1:\n",
        "    print(f\"{x} not found in array\")\n",
        "else:\n",
        "    print(f\"{x} found at index {index}\")\n"
      ],
      "metadata": {
        "colab": {
          "base_uri": "https://localhost:8080/"
        },
        "id": "EAiqAFTSJeQF",
        "outputId": "ce6d5a09-dbc5-4380-80c3-4ab3c6f5716b"
      },
      "execution_count": 2,
      "outputs": [
        {
          "output_type": "stream",
          "name": "stdout",
          "text": [
            "3 found at index 2\n"
          ]
        }
      ]
    },
    {
      "cell_type": "code",
      "source": [
        "#1st code Explanation:-\n",
        "\"\"\"\n",
        "The function linear_search is defined, which takes in two arguments: an array arr and an element x to be searched for.\n",
        "\n",
        "The function uses a for loop to iterate through the elements of arr. For each element i in arr, the function checks if arr[i] is equal to x.\n",
        "\n",
        "If arr[i] is equal to x, the function returns the index i of the element.\n",
        "\n",
        "If the element is not found in the array, the for loop will complete execution, and the function will return -1.\n",
        "\n",
        "The function is then called with an array arr and an element x, and the result of the function call is stored in the variable index.\n",
        "\n",
        "An if statement checks if index is equal to -1. If it is, it means that the element was not found in the array, and a message is printed indicating that the element was not found.\n",
        "\n",
        "If index is not equal to -1, it means that the element was found in the array, and a message is printed indicating the index at which the element was found.\n",
        "\n",
        "\"\"\""
      ],
      "metadata": {
        "id": "2y7BClrPJyVX"
      },
      "execution_count": null,
      "outputs": []
    },
    {
      "cell_type": "code",
      "source": [
        "#1st code line by line Explanation:-\n",
        "\n",
        "\"\"\"\n",
        "def linear_search(arr, x):\n",
        "    for i in range(len(arr)):\n",
        "        if arr[i] == x:\n",
        "            return i\n",
        "    return -1\n",
        "\n",
        "1) The function linear_search is defined, which takes in two arguments: an array arr and an element x to be searched for.\n",
        "\n",
        "2) A for loop iterates through the elements of arr. The loop variable i takes on the values 0, 1, 2, ..., len(arr) - 1.\n",
        "\n",
        "3) For each value of i, the function checks if arr[i] is equal to x.\n",
        "\n",
        "4) If arr[i] is equal to x, the function returns the index i of the element.\n",
        "\n",
        "5) If the element is not found in the array, the for loop will complete execution, and the function will return -1.\n",
        "\n",
        "\n",
        "\n",
        "\n",
        "arr = [1, 2, 3, 4, 5]\n",
        "x = 5\n",
        "\n",
        "index = linear_search(arr, x)\n",
        "if index == -1:\n",
        "    print(f\"{x} not found in array\")\n",
        "else:\n",
        "    print(f\"{x} found at index {index}\")\n",
        "\n",
        "6) An array arr is defined with the elements 1, 2, 3, 4, 5.\n",
        "\n",
        "7) The variable x is defined and set to 5.\n",
        "\n",
        "8) The function linear_search is called with arr and x as arguments, and the result of the function call is stored in the variable index.\n",
        "\n",
        "9) An if statement checks if index is equal to -1. If it is, it means that the element was not found in the array, and a message is printed indicating that the element was not found.\n",
        "\n",
        "10) If index is not equal to -1, it means that the element was found in the array, and a message is printed indicating the index at which the element was found.\n",
        "\n",
        "\n",
        "\"\"\"\n"
      ],
      "metadata": {
        "id": "5kn1WORuKsFi"
      },
      "execution_count": null,
      "outputs": []
    },
    {
      "cell_type": "code",
      "source": [
        "#1st Code Time Complexity:-\n",
        "\n",
        "\"\"\"\n",
        "\n",
        "The time complexity of the linear search algorithm depends on the size of the input array and the location of the element being searched for. \n",
        "In the worst case, the element being searched for is not present in the array, and the function must search through all n elements of the array \n",
        "before returning -1. This results in a time complexity of O(n), where n is the size of the input array.\n",
        "\n",
        "In the best case, the element being searched for is present at the first index of the array, and the function returns immediately after the first comparison. \n",
        "This results in a time complexity of O(1), since the function only performs a single comparison in this case.\n",
        "\n",
        "Overall, the time complexity of the linear search algorithm is O(n), since the worst case time complexity is dominant. \n",
        "This means that the running time of the algorithm grows linearly with the size of the input array.\n",
        "\n",
        "Note that there are other search algorithms that have a faster time complexity than linear search, such as binary search, \n",
        "which has a time complexity of O(log n). However, linear search is still a useful algorithm in certain situations, \n",
        "such as when the array is small or the element being searched for is likely to be near the beginning of the array.\n",
        "\n",
        "\"\"\"\n"
      ],
      "metadata": {
        "id": "JTB3b6RFLltR"
      },
      "execution_count": null,
      "outputs": []
    },
    {
      "cell_type": "code",
      "source": [
        "#2nd Code Explanation:-\n",
        "\n",
        "\"\"\"\n",
        "\n",
        "The basic implementation of linear search, a search algorithm that checks each element of a list sequentially until it finds the target element or determines that \n",
        "the element is not present in the list.\n",
        "\n",
        "The code defines a function linear_search that takes two arguments: a list arr and a target element x. The function uses the in operator \n",
        "to check if x is present in the list arr. If it is present, the function returns the index of x in the list using the index method. \n",
        "If x is not present in the list, the function returns -1.\n",
        "\n",
        "After calling the function and storing the result in the index variable, the code checks the value of index. \n",
        "If it is -1, it prints a message indicating that the target element was not found in the list. If index is not -1, \n",
        "it prints a message indicating the index at which the target element was found in the list.\n",
        "\n",
        "Overall, this code provides a basic implementation of linear search and demonstrates how to use the index method and the in operator to search for an element in a list.\n",
        "\n",
        "\"\"\""
      ],
      "metadata": {
        "id": "RR7kXyJKNEOm"
      },
      "execution_count": null,
      "outputs": []
    },
    {
      "cell_type": "code",
      "source": [
        "#2nd line-by-line explanation of the code:-\n",
        "\n",
        "\"\"\"\n",
        "\n",
        "def linear_search(arr, x):\n",
        "\n",
        "This line defines a function called linear_search that takes two arguments: a list arr and a target element x.\n",
        "\n",
        "\n",
        "\n",
        "    return arr.index(x) if x in arr else -1\n",
        "\n",
        "\n",
        "This line uses an inline if statement to check if x is present in the list arr.\n",
        " If it is present, the function returns the index of x in the list using the index method. If x is not present in the list, the function returns -1.\n",
        "\n",
        "\n",
        "arr = [1, 2, 3, 4, 5]\n",
        "x = 3\n",
        "\n",
        "\n",
        "These lines define a list arr and a target element x.\n",
        "\n",
        "\n",
        "index = linear_search(arr, x)\n",
        "\n",
        "\n",
        "This line calls the linear_search function and stores the result in the index variable.\n",
        "\n",
        "\n",
        "\n",
        "if index == -1:\n",
        "    print(f\"{x} not found in array\")\n",
        "else:\n",
        "    print(f\"{x} found at index {index}\")\n",
        "\n",
        "\n",
        "These lines check the value of index. If it is -1, it prints a message indicating that the target element was not found in the list. \n",
        "If index is not -1, it prints a message indicating the index at which the target element was found in the list.\n",
        "\n",
        "\"\"\""
      ],
      "metadata": {
        "id": "13cDHbsWNxkB"
      },
      "execution_count": null,
      "outputs": []
    },
    {
      "cell_type": "code",
      "source": [
        "#2nd Time Complexity :-\n",
        "\"\"\"\n",
        "\n",
        "The time complexity of the linear search algorithm implemented in the code you provided is O(n), where n is the length of the list arr. \n",
        "This means that the time taken by the algorithm grows linearly with the size of the input list.\n",
        "\n",
        "In the worst case, when the target element is not present in the list, the algorithm will need to check all n elements of the list, \n",
        "resulting in a time complexity of O(n). In the best case, when the target element is present at the first index of the list, \n",
        "the algorithm will find the element in one step, resulting in a time complexity of O(1).\n",
        "\n",
        "Overall, the time complexity of linear search is relatively simple and easy to understand, but it is not very efficient compared to other search algorithms, \n",
        "particularly when the input list is large. For example, the time complexity of the binary search algorithm is O(log n), which is much faster than linear search for large lists.\n",
        "\n",
        "\"\"\""
      ],
      "metadata": {
        "id": "rUq5U8RyPDIM"
      },
      "execution_count": null,
      "outputs": []
    }
  ]
}