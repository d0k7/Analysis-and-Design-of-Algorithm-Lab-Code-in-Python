{
  "nbformat": 4,
  "nbformat_minor": 0,
  "metadata": {
    "colab": {
      "provenance": [],
      "authorship_tag": "ABX9TyNs5kdVvvI4O7AaY+qudxGl",
      "include_colab_link": true
    },
    "kernelspec": {
      "name": "python3",
      "display_name": "Python 3"
    },
    "language_info": {
      "name": "python"
    }
  },
  "cells": [
    {
      "cell_type": "markdown",
      "metadata": {
        "id": "view-in-github",
        "colab_type": "text"
      },
      "source": [
        "<a href=\"https://colab.research.google.com/github/d0k7/Analysis-and-Design-of-Algorithm-Lab-Code-in-Python/blob/main/17_To_implement_shortest_path_in_grid.ipynb\" target=\"_parent\"><img src=\"https://colab.research.google.com/assets/colab-badge.svg\" alt=\"Open In Colab\"/></a>"
      ]
    },
    {
      "cell_type": "code",
      "execution_count": 7,
      "metadata": {
        "colab": {
          "base_uri": "https://localhost:8080/"
        },
        "id": "CM0rV4WcFsbq",
        "outputId": "bc34b076-3c71-4606-9ddb-4d1ff4f9447b"
      },
      "outputs": [
        {
          "output_type": "stream",
          "name": "stdout",
          "text": [
            "[(0, 0), (0, 1), (0, 2), (1, 2), (2, 2), (2, 3), (3, 3)]\n"
          ]
        }
      ],
      "source": [
        "import heapq\n",
        "\n",
        "def dijkstra(grid, start, end):\n",
        "    q, v = [(0, start)], {}\n",
        "    while q:\n",
        "        (d, node) = heapq.heappop(q)\n",
        "        if node == end:\n",
        "            return reconstruct_path(v, start, end)\n",
        "        if node not in v:\n",
        "            v[node] = d\n",
        "            for r, c in ((1, 0), (-1, 0), (0, 1), (0, -1)):\n",
        "                nei = (node[0] + r, node[1] + c)\n",
        "                if 0 <= nei[0] < len(grid) and 0 <= nei[1] < len(grid[0]) and nei not in v and grid[nei[0]][nei[1]] != 1:\n",
        "                    heapq.heappush(q, (d + 1, nei))\n",
        "\n",
        "def reconstruct_path(v, start, end):\n",
        "    path = [end]\n",
        "    curr = end\n",
        "    while curr != start:\n",
        "        neighbors = [(n[0], n[1], v[n]) for n in [(curr[0]+1, curr[1]), (curr[0]-1, curr[1]), (curr[0], curr[1]+1), (curr[0], curr[1]-1)] if n in v]\n",
        "        neighbor = min(neighbors, key=lambda x: x[2])\n",
        "        curr = (neighbor[0], neighbor[1])\n",
        "        path.append(curr)\n",
        "    return path[::-1]\n",
        "\n",
        "\n",
        "grid = [[0, 0, 0, 0],\n",
        "        [0, 1, 0, 1],\n",
        "        [0, 0, 0, 0],\n",
        "        [0, 0, 1, 0]]\n",
        "start = (0, 0)\n",
        "end = (3, 3)\n",
        "\n",
        "path = dijkstra(grid, start, end)\n",
        "print(path)\n",
        "\n",
        "\n"
      ]
    },
    {
      "cell_type": "code",
      "source": [
        "# Explanation of above code :- \n",
        "\n",
        "\"\"\"\n",
        "\n",
        "The code imports the heapq module, which provides an implementation of the heap queue algorithm.\n",
        "\n",
        "\n",
        "The dijkstra function takes a grid parameter, which is a 2D list representing the grid with 0s for empty cells and 1s for obstacles. It also takes a start \n",
        "parameter and an end parameter, which are tuples representing the coordinates of the start and end cells on the grid, respectively.\n",
        "\n",
        "\n",
        "The function initializes a heap q with a tuple (0, start), which represents the starting node with a distance of 0.\n",
        "\n",
        "\n",
        "It also initializes an empty dictionary v to keep track of the visited nodes and their total distances from the start node.\n",
        "\n",
        "\n",
        "The function enters a loop that continues until the heap q is empty.\n",
        "\n",
        "\n",
        "In each iteration of the loop, the function pops the node with the smallest distance from the heap q using the heappop function from the heapq module.\n",
        "\n",
        "\n",
        "If the popped node is the end node, the function calls the reconstruct_path function to compute and return the shortest path from the start node to the end node.\n",
        "\n",
        "\n",
        "If the popped node is not in the visited set v, the function adds it to v with its total distance from the start node as its value.\n",
        "\n",
        "\n",
        "The function then iterates over the neighbors of the current node, which are cells that are one unit away in any of the four cardinal directions.\n",
        "\n",
        "\n",
        "For each neighbor, the function checks if it is within the bounds of the grid and not an obstacle, and if it has not already been visited.\n",
        "\n",
        "\n",
        "If the neighbor meets these criteria, the function computes its total distance from the start node by adding 1 to the distance of the current node, and adds it to the heap q.\n",
        "\n",
        "\n",
        "The reconstruct_path function takes a dictionary v of visited nodes and their total distances from the start node, as well as the start and end nodes.\n",
        "\n",
        "\n",
        "The function initializes a list path with the end node, and sets the current node to the end node.\n",
        "\n",
        "\n",
        "The function then enters a loop that continues until the current node is equal to the start node.\n",
        "\n",
        "\n",
        "In each iteration of the loop, the function computes the neighbors of the current node that are in the visited set v.\n",
        "\n",
        "\n",
        "For each neighbor, the function computes its total distance from the start node as the sum of its distance from the current node and its total distance from the start \n",
        "node stored in the v dictionary.\n",
        "\n",
        "\n",
        "The function then selects the neighbor with the smallest total distance and sets it as the current node.\n",
        "\n",
        "\n",
        "The function adds the current node to the path list.\n",
        "\n",
        "\n",
        "Finally, the function returns the reversed path list, which represents the shortest path from the start node to the end node.\n",
        "\n",
        "\n",
        "\n",
        "\n",
        "\"\"\""
      ],
      "metadata": {
        "id": "RDU9zWKSMLnl"
      },
      "execution_count": null,
      "outputs": []
    },
    {
      "cell_type": "code",
      "source": [
        "#Explain all cases time complexity of above code:-\n",
        "\n",
        "\"\"\"\n",
        "\n",
        "Initializing the heap q and the visited dictionary v takes constant time.\n",
        "\n",
        "\n",
        "The loop in the dijkstra function will run for a maximum of N iterations, where N is the total number of cells in the grid.\n",
        "\n",
        "\n",
        "In each iteration of the loop, the function pops the node with the smallest distance from the heap q, which takes O(log N) time.\n",
        "\n",
        "\n",
        "The function then iterates over the neighbors of the current node, which takes constant time per neighbor. The maximum number of neighbors is 4, \n",
        "so the total time spent in this loop is O(1) per iteration.\n",
        "\n",
        "\n",
        "The function then adds the neighbor to the heap q, which takes O(log N) time.\n",
        "\n",
        "\n",
        "The reconstruct_path function will run for a maximum of M iterations, where M is the length of the shortest path from the start node to the end node.\n",
        "\n",
        "\n",
        "In each iteration of the loop, the function computes the neighbors of the current node that are in the visited set v, which takes constant time per neighbor. The maximum number of \n",
        "neighbors is also 4, so the total time spent in this loop is O(1) per iteration.\n",
        "\n",
        "\n",
        "The function then selects the neighbor with the smallest total distance, which takes O(K) time, where K is the number of neighbors that are in the visited set v.\n",
        "\n",
        "\n",
        "The function adds the current node to the path list, which takes constant time.\n",
        "\n",
        "\n",
        "Finally, the function returns the reversed path list, which takes O(M) time.\n",
        "\n",
        "\n",
        "Therefore, the time complexity of the dijkstra function is O(N log N), where N is the total number of cells in the grid, and the time complexity of the reconstruct_path function \n",
        "is O(M K), where M is the length of the shortest path from the start node to the end node, and K is the number of neighbors that are in the visited set v. Since K is at most 4 \n",
        "and M is typically much smaller than N, the overall time complexity of the algorithm is dominated by the dijkstra function and is O(N log N).\n",
        "\n",
        "\n",
        "\"\"\""
      ],
      "metadata": {
        "id": "yxcTXIcHMyog"
      },
      "execution_count": 7,
      "outputs": []
    },
    {
      "cell_type": "code",
      "source": [],
      "metadata": {
        "id": "c0-Zw95YQCHQ"
      },
      "execution_count": null,
      "outputs": []
    }
  ]
}