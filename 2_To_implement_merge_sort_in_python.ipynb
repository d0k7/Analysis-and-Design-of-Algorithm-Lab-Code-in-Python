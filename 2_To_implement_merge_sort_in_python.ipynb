{
  "nbformat": 4,
  "nbformat_minor": 0,
  "metadata": {
    "colab": {
      "provenance": [],
      "include_colab_link": true
    },
    "kernelspec": {
      "name": "python3",
      "display_name": "Python 3"
    },
    "language_info": {
      "name": "python"
    }
  },
  "cells": [
    {
      "cell_type": "markdown",
      "metadata": {
        "id": "view-in-github",
        "colab_type": "text"
      },
      "source": [
        "<a href=\"https://colab.research.google.com/github/d0k7/Analysis-and-Design-of-Algorithm-Lab-Code-in-Python/blob/main/2_To_implement_merge_sort_in_python.ipynb\" target=\"_parent\"><img src=\"https://colab.research.google.com/assets/colab-badge.svg\" alt=\"Open In Colab\"/></a>"
      ]
    },
    {
      "cell_type": "code",
      "execution_count": null,
      "metadata": {
        "colab": {
          "base_uri": "https://localhost:8080/"
        },
        "id": "v_cHZ494r1Ou",
        "outputId": "d24c5d3a-a02a-4c76-afd0-7846c823bc13"
      },
      "outputs": [
        {
          "output_type": "stream",
          "name": "stdout",
          "text": [
            "[1, 2, 3, 4, 5, 6]\n"
          ]
        }
      ],
      "source": [
        "def merge_sort(arr):\n",
        "    if len(arr) <= 1:\n",
        "        return arr\n",
        "    mid = len(arr) // 2\n",
        "    left = merge_sort(arr[:mid])\n",
        "    right = merge_sort(arr[mid:])\n",
        "    return merge(left, right)\n",
        "\n",
        "def merge(left, right):\n",
        "    result = []\n",
        "    while left and right:\n",
        "        if left[0] < right[0]:\n",
        "            result.append(left.pop(0))\n",
        "        else:\n",
        "            result.append(right.pop(0))\n",
        "    result.extend(left)\n",
        "    result.extend(right)\n",
        "    return result\n",
        "\n",
        "arr = [5, 2, 4, 6, 1, 3]\n",
        "sorted_arr = merge_sort(arr)\n",
        "print(sorted_arr)  \n",
        "\n"
      ]
    },
    {
      "cell_type": "code",
      "source": [
        "\"\"\"\n",
        "Here is a step-by-step explanation of the code:\n",
        "Here is an explanation of the code:\n",
        "\n",
        "The merge_sort function is a implementation of the merge sort algorithm, \n",
        "which is a divide-and-conquer sorting algorithm that works by recursively dividing the input list into smaller lists until each list contains only one element, \n",
        "and then merging the sorted lists back together.\n",
        "\n",
        "The merge_sort function takes in a single argument arr, which is the list to be sorted. \n",
        "The function first checks if the length of arr is less than or equal to 1. If it is, \n",
        "the function returns arr as the result, since a list of length 0 or 1 is already sorted. This is the base case for the recursion.\n",
        "\n",
        "If the length of arr is greater than 1, the function calculates the midpoint of arr and assigns it to the variable mid. \n",
        "It then calls itself recursively on the left half of arr (the elements up to but not including the midpoint) and the right half of arr \n",
        "(the elements from the midpoint to the end of the list). These recursive calls will continue until the base case is reached (a list of length 0 or 1).\n",
        "\n",
        "Once the recursion has reached the base case, the function begins to merge the sorted lists back together. \n",
        "This is done using the merge function, which takes in two lists left and right and returns a single merged list. \n",
        "The merge function initializes an empty list called result and then enters a while loop that continues as long as both left and right are non-empty lists. \n",
        "Within the while loop, it compares the first elements of left and right, and appends the smaller of the two to result. \n",
        "It then removes the element that was appended from the list it came from using the pop method. This process continues until one of the lists is empty.\n",
        "\n",
        "Once one of the lists is empty, the while loop ends and the remaining elements of the other list (if any) are appended to the end of result using the extend method. \n",
        "Finally, the merge function returns result as the merged result.\n",
        "\n",
        "\n",
        "\"\"\"\n"
      ],
      "metadata": {
        "id": "iWylXeMusVHi"
      },
      "execution_count": null,
      "outputs": []
    },
    {
      "cell_type": "code",
      "source": [
        "\"\"\"\n",
        "Line by line explanation of code.\n",
        "\n",
        "def merge_sort(arr):\n",
        "\n",
        "\n",
        "This line defines a function called merge_sort that takes in a single argument arr.\n",
        "\n",
        "\n",
        "    if len(arr) <= 1:\n",
        "        return arr\n",
        "\n",
        "\n",
        "This line is the base case for the recursion. If the length of arr is less than or equal to 1, the function returns arr as the result. This is necessary to ensure that the recursion eventually ends.\n",
        "\n",
        "\n",
        "    mid = len(arr) // 2\n",
        "\n",
        "\n",
        "This line calculates the midpoint of arr.\n",
        "\n",
        "\n",
        "\n",
        "    left = merge_sort(arr[:mid])\n",
        "\n",
        "This line calls merge_sort recursively on the left half of arr.\n",
        "\n",
        "\n",
        "      right = merge_sort(arr[mid:])\n",
        "\n",
        "      This line calls merge_sort recursively on the right half of arr.\n",
        "\n",
        "\n",
        "      return merge(left, right)\n",
        "\n",
        "This line returns the result of merging left and right using the merge function (which is defined later in the code).\n",
        "\n",
        "\n",
        "def merge(left, right):\n",
        "\n",
        "\n",
        "This line defines a function called merge that takes in two arguments: left and right.\n",
        "\n",
        "\n",
        "\n",
        "    result = []\n",
        "\n",
        "    This line initializes an empty list called result that will be used to store the merged result.\n",
        "\n",
        "\n",
        "        while left and right:\n",
        "\n",
        "This line starts a while loop that will continue as long as both left and right are non-empty lists.\n",
        "\n",
        "\n",
        "\n",
        "        if left[0] < right[0]:\n",
        "            result.append(left.pop(0))\n",
        "        else:\n",
        "            result.append(right.pop(0))\n",
        "\n",
        "\n",
        "This block of code compares the first elements of left and right, and appends the smaller of the two to result. \n",
        "The element that was appended is also removed from the list it came from using the pop method.\n",
        "\n",
        "\n",
        "\n",
        "    result.extend(left)\n",
        "    result.extend(right)\n",
        "\n",
        "\n",
        "These lines append the remaining elements of left and right (if any) to the end of result.\n",
        "\n",
        "\n",
        "    return result\n",
        "\n",
        "This line returns result as the final merged result.\n",
        "\n",
        "\n",
        "\"\"\"\n",
        "\n"
      ],
      "metadata": {
        "id": "ok70_N9osaPa"
      },
      "execution_count": null,
      "outputs": []
    },
    {
      "cell_type": "code",
      "source": [
        "\"\"\"\n",
        "The time complexity of merge sort is O(n log n) in all cases. \n",
        "This means that the algorithm takes O(n log n) time to sort a list of n elements.\n",
        "\n",
        "Merge sort is a divide and conquer algorithm that works by dividing the input list into smaller sublists, sorting each sublist, \n",
        "and then merging the sorted sublists back together. The time complexity of merge sort is determined by the number of comparisons that are required to divide the \n",
        "list and merge the sorted sublists.\n",
        "\n",
        "In the worst case, the time complexity of merge sort is O(n log n) because the algorithm always divides the list in half and then merges the sublists, \n",
        "leading to O(log n) divisions. The time complexity of the merge step is O(n) because it requires comparing and merging n elements. \n",
        "The overall time complexity is the product of these two complexities, which is O(n log n).\n",
        "\n",
        "In the best case, the time complexity of merge sort is also O(n log n). \n",
        "This is because the algorithm always divides the list in half and then merges the sublists, \n",
        "leading to O(log n) divisions. The time complexity of the merge step is O(n) because it requires comparing and merging n elements. \n",
        "The overall time complexity is the product of these two complexities, which is O(n log n).\n",
        "\n",
        "In the average case, the time complexity of merge sort is also O(n log n). \n",
        "This is because the average case time complexity is often determined by the worst case, \n",
        "as it represents the upper bound on the time taken by the algorithm.\n",
        "\n",
        "Overall, merge sort is a stable and efficient sorting algorithm that is widely used in practice. \n",
        "It is particularly well-suited for sorting large lists and for scenarios where the list may be partially sorted.\n",
        "\n",
        "\"\"\""
      ],
      "metadata": {
        "id": "1Npi_viftWvT"
      },
      "execution_count": null,
      "outputs": []
    }
  ]
}