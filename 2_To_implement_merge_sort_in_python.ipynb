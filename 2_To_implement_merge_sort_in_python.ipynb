{
  "nbformat": 4,
  "nbformat_minor": 0,
  "metadata": {
    "colab": {
      "provenance": [],
      "authorship_tag": "ABX9TyNkQ6uqSdjlOqQM2oPXN+6m",
      "include_colab_link": true
    },
    "kernelspec": {
      "name": "python3",
      "display_name": "Python 3"
    },
    "language_info": {
      "name": "python"
    }
  },
  "cells": [
    {
      "cell_type": "markdown",
      "metadata": {
        "id": "view-in-github",
        "colab_type": "text"
      },
      "source": [
        "<a href=\"https://colab.research.google.com/github/d0k7/Analysis-and-Design-of-Algorithm-Lab-Code-in-Python/blob/main/2_To_implement_merge_sort_in_python.ipynb\" target=\"_parent\"><img src=\"https://colab.research.google.com/assets/colab-badge.svg\" alt=\"Open In Colab\"/></a>"
      ]
    },
    {
      "cell_type": "code",
      "execution_count": 8,
      "metadata": {
        "colab": {
          "base_uri": "https://localhost:8080/"
        },
        "id": "v_cHZ494r1Ou",
        "outputId": "07ca8020-a774-4c33-eaf7-19a7bc185033"
      },
      "outputs": [
        {
          "output_type": "execute_result",
          "data": {
            "text/plain": [
              "[1, 2, 3, 4, 5]"
            ]
          },
          "metadata": {},
          "execution_count": 8
        }
      ],
      "source": [
        "def merge_sort(arr):\n",
        "    # base case: if the length of the input array is 1 or less, return the array as-is\n",
        "    if len(arr) <= 1:\n",
        "        return arr\n",
        "\n",
        "    # split the input array in half and sort each half recursively\n",
        "    left = merge_sort(arr[:len(arr) // 2])\n",
        "    right = merge_sort(arr[len(arr) // 2:])\n",
        "\n",
        "    # initialize an empty list to store the merged result\n",
        "    result = []\n",
        "\n",
        "    # merge the left and right arrays in sorted order\n",
        "    while len(left) > 0 and len(right) > 0:\n",
        "        if left[0] < right[0]:\n",
        "            result.append(left.pop(0))\n",
        "        else:\n",
        "            result.append(right.pop(0))\n",
        "\n",
        "    # add any remaining items from the left array\n",
        "    result += left\n",
        "\n",
        "    # add any remaining items from the right array\n",
        "    result += right\n",
        "\n",
        "    # return the merged and sorted result\n",
        "    return result\n",
        "merge_sort([3, 1, 5, 2, 4])\n"
      ]
    },
    {
      "cell_type": "code",
      "source": [
        "\"\"\"\n",
        " Here is a step-by-step explanation of the code:\n",
        "\n",
        "The function defines a merge_sort() function that takes in an array arr as input.\n",
        "\n",
        "The function checks if the length of the input array arr is 1 or less. If this is the case, it returns the array as-is, since a 1- or 0-element array is already sorted.\n",
        "\n",
        "If the length of the input array is greater than 1, the function splits the input array in half and assigns the left half to the left variable and the right half to the right variable.\n",
        "\n",
        "The function then sorts each of the left and right halves recursively by calling the merge_sort() function on each of them.\n",
        "\n",
        "After the left and right halves are sorted, the function initializes an empty result list and enters a loop that continues until both the left and right arrays are empty.\n",
        "\n",
        "In each iteration of the loop, the function checks if the first element of the left array is less than the first element of the right array. \n",
        "If this is the case, it adds the first element of the left array to the result list and removes that element from the left array. \n",
        "Otherwise, it adds the first element of the right array to the result list and removes that element from the right array.\n",
        "\n",
        "After the loop ends, the function adds any remaining elements in the left array to the result list.\n",
        "\n",
        "The function then adds any remaining elements in the right array to the result list.\n",
        "\n",
        "The function returns the result list, which contains the elements of the input array in sorted order. \n",
        "\n",
        "\"\"\"\n"
      ],
      "metadata": {
        "id": "iWylXeMusVHi"
      },
      "execution_count": null,
      "outputs": []
    },
    {
      "cell_type": "code",
      "source": [],
      "metadata": {
        "id": "ok70_N9osaPa"
      },
      "execution_count": null,
      "outputs": []
    }
  ]
}