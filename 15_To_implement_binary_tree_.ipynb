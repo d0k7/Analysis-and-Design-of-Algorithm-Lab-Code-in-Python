{
  "nbformat": 4,
  "nbformat_minor": 0,
  "metadata": {
    "colab": {
      "provenance": [],
      "authorship_tag": "ABX9TyPCteukzmaSzxC++RGFrGoY",
      "include_colab_link": true
    },
    "kernelspec": {
      "name": "python3",
      "display_name": "Python 3"
    },
    "language_info": {
      "name": "python"
    }
  },
  "cells": [
    {
      "cell_type": "markdown",
      "metadata": {
        "id": "view-in-github",
        "colab_type": "text"
      },
      "source": [
        "<a href=\"https://colab.research.google.com/github/d0k7/Analysis-and-Design-of-Algorithm-Lab-Code-in-Python/blob/main/15_To_implement_binary_tree_.ipynb\" target=\"_parent\"><img src=\"https://colab.research.google.com/assets/colab-badge.svg\" alt=\"Open In Colab\"/></a>"
      ]
    },
    {
      "cell_type": "code",
      "execution_count": 1,
      "metadata": {
        "colab": {
          "base_uri": "https://localhost:8080/"
        },
        "id": "hreie1d56m6H",
        "outputId": "31a006ce-61cb-4356-a241-e48fd0c7a00b"
      },
      "outputs": [
        {
          "output_type": "stream",
          "name": "stdout",
          "text": [
            "5\n",
            "3\n",
            "7\n",
            "1\n",
            "4\n",
            "6\n",
            "8\n"
          ]
        }
      ],
      "source": [
        "class Node:\n",
        "    def __init__(self, val):\n",
        "        self.val = val\n",
        "        self.left = self.right = None\n",
        "\n",
        "    def insert(self, val):\n",
        "        if not self:\n",
        "            self = Node(val)\n",
        "        elif val < self.val:\n",
        "            if not self.left:\n",
        "                self.left = Node(val)\n",
        "            else:\n",
        "                self.left.insert(val)\n",
        "        else:\n",
        "            if not self.right:\n",
        "                self.right = Node(val)\n",
        "            else:\n",
        "                self.right.insert(val)\n",
        "\n",
        "    def search(self, val):\n",
        "        if not self:\n",
        "            return False\n",
        "        elif self.val == val:\n",
        "            return True\n",
        "        elif val < self.val:\n",
        "            return self.left.search(val)\n",
        "        else:\n",
        "            return self.right.search(val)\n",
        "\n",
        "\n",
        "root = Node(5)\n",
        "root.insert(3)\n",
        "root.insert(7)\n",
        "root.insert(1)\n",
        "root.insert(4)\n",
        "root.insert(6)\n",
        "root.insert(8)\n",
        "\n",
        "print(root.val)         \n",
        "print(root.left.val)   \n",
        "print(root.right.val)  \n",
        "print(root.left.left.val)  \n",
        "print(root.left.right.val)  \n",
        "print(root.right.left.val)  \n",
        "print(root.right.right.val)  \n"
      ]
    },
    {
      "cell_type": "code",
      "source": [
        "# Explanation of above code:-\n",
        "\n",
        "\"\"\"\n",
        "\n",
        "The Node class is defined with two instance variables - val to store the value of the node, and left and right to store references to the left and right child nodes.\n",
        "\n",
        "\n",
        "The __init__ method is defined to initialize the val, left, and right instance variables.\n",
        "\n",
        "\n",
        "The insert method is defined to insert a new node with a given value into the binary tree.\n",
        "\n",
        "\n",
        "If the value of the new node is less than the value of the current node, it is inserted as the left child of the current node.\n",
        "\n",
        "\n",
        "If the value of the new node is greater than or equal to the value of the current node, it is inserted as the right child of the current node.\n",
        "\n",
        "\n",
        "The insert method calls itself recursively on the left or right child node, depending on the value of the new node, \n",
        "until it reaches a leaf node where the new node can be inserted.\n",
        "\n",
        "\n",
        "To use the binary tree, an instance of the Node class is created with a given value.\n",
        "\n",
        "\n",
        "The insert method is called on the root node to insert new nodes with given values into the binary tree.\n",
        "\n",
        "\n",
        "The values of the root node and its child nodes can be printed to verify that the binary tree was constructed correctly.\n",
        "\n",
        "\n",
        "\"\"\""
      ],
      "metadata": {
        "id": "Qe1_RyzH7iZ3"
      },
      "execution_count": null,
      "outputs": []
    },
    {
      "cell_type": "code",
      "source": [
        "# All case time complexity of above code:-\n",
        "\n",
        "\"\"\"\n",
        "\n",
        "Here are the time complexities of various operations in a binary tree implemented using the Node class in Python:\n",
        "\n",
        "Creating a new node with a given value - O(1) time complexity.\n",
        "\n",
        "\n",
        "Inserting a new node with a given value into the binary tree - O(h) time complexity, where h is the height of the binary tree. In the worst case, \n",
        "when the binary tree is skewed and has only one child node per level, the height of the tree becomes n (number of nodes), and the time complexity becomes O(n).\n",
        "\n",
        "\n",
        "Traversing the binary tree to print its values - O(n) time complexity, where n is the number of nodes in the binary tree. This is because we need to visit each node exactly \n",
        "once to print its value.\n",
        "\n",
        "\n",
        "Searching for a specific node in the binary tree - O(h) time complexity, where h is the height of the binary tree. In the worst case, when the binary tree is skewed \n",
        "and has only one child node per level, the height of the tree becomes n (number of nodes), and the time complexity becomes O(n).\n",
        "\n",
        "\n",
        "Note that the time complexity of operations on a binary tree depends on its shape and height. A balanced binary tree with approximately equal numbers of nodes on \n",
        "each side of the root node has a height of O(log n), and operations on such a tree have a time complexity of O(log n).\n",
        "\n",
        "\n",
        "\"\"\""
      ],
      "metadata": {
        "id": "7EFiD-OU8M4k"
      },
      "execution_count": null,
      "outputs": []
    }
  ]
}