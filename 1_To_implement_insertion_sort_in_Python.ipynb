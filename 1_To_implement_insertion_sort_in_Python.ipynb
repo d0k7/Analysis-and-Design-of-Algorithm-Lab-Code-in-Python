{
  "nbformat": 4,
  "nbformat_minor": 0,
  "metadata": {
    "colab": {
      "provenance": [],
      "authorship_tag": "ABX9TyNAs2gd/0hhvmWtIDBr2YUO",
      "include_colab_link": true
    },
    "kernelspec": {
      "name": "python3",
      "display_name": "Python 3"
    },
    "language_info": {
      "name": "python"
    }
  },
  "cells": [
    {
      "cell_type": "markdown",
      "metadata": {
        "id": "view-in-github",
        "colab_type": "text"
      },
      "source": [
        "<a href=\"https://colab.research.google.com/github/d0k7/Analysis-and-Design-of-Algorithm-Lab-Code-in-Python/blob/main/1_To_implement_insertion_sort_in_Python.ipynb\" target=\"_parent\"><img src=\"https://colab.research.google.com/assets/colab-badge.svg\" alt=\"Open In Colab\"/></a>"
      ]
    },
    {
      "cell_type": "code",
      "execution_count": null,
      "metadata": {
        "colab": {
          "base_uri": "https://localhost:8080/"
        },
        "id": "KoFHM7yuM4aV",
        "outputId": "7644eb0f-df98-438c-8b34-391736309c7e"
      },
      "outputs": [
        {
          "output_type": "stream",
          "name": "stdout",
          "text": [
            "[1, 2, 3, 4, 5, 6]\n"
          ]
        }
      ],
      "source": [
        "def insertion_sort(arr):\n",
        "    for i in range(1, len(arr)):\n",
        "        key = arr[i]\n",
        "        j = i - 1\n",
        "        while j >= 0 and key < arr[j]:\n",
        "            arr[j + 1] = arr[j]\n",
        "            j -= 1\n",
        "        arr[j + 1] = key\n",
        "\n",
        "arr = [5, 2, 4, 6, 1, 3]\n",
        "insertion_sort(arr)\n",
        "print(arr)"
      ]
    },
    {
      "cell_type": "code",
      "source": [
        "\"\"\" Explanation:\n",
        "\n",
        "This code correctly implements the insertion sort algorithm. \n",
        "To sort an array using this algorithm, we start by assuming that the element at index 0 is already sorted. \n",
        "We then iterate over the remaining elements of the array, and for each element, \n",
        "we insert it into the sorted subarray to the left of the current element by shifting any larger elements to the right. \n",
        "When we reach the end of the array, the entire array will be sorted.\n",
        "\n",
        "Here's how the algorithm works for the given array [5, 2, 4, 6, 1, 3]:\n",
        "\n",
        "Assume that the first element 5 is already sorted.\n",
        "\n",
        "The next element is 2. We shift the first element to the right, so the array becomes [5, 5, 4, 6, 1, 3].\n",
        "\n",
        "The next element is 4. We shift the first two elements to the right, so the array becomes [5, 4, 5, 6, 1, 3].\n",
        "\n",
        "The next element is 6. This element is already greater than the previous element, so we don't need to shift any elements. The array becomes [5, 4, 5, 6, 1, 3].\n",
        "\n",
        "The next element is 1. We shift all elements to the right, so the array becomes [1, 5, 4, 5, 6, 3].\n",
        "\n",
        "The next element is 3. We shift the first three elements to the right, so the array becomes [1, 3, 5, 4, 5, 6].\n",
        "\n",
        "At this point, the entire array is sorted, so the function prints [1, 3, 4, 5, 5, 6].\n",
        "\n",
        "\"\"\""
      ],
      "metadata": {
        "id": "ZIOGLUA-NU68"
      },
      "execution_count": null,
      "outputs": []
    },
    {
      "cell_type": "code",
      "source": [],
      "metadata": {
        "id": "1-a0RTCPYs6f"
      },
      "execution_count": null,
      "outputs": []
    }
  ]
}