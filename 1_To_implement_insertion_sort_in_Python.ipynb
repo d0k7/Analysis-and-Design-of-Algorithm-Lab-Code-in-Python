{
  "nbformat": 4,
  "nbformat_minor": 0,
  "metadata": {
    "colab": {
      "provenance": [],
      "include_colab_link": true
    },
    "kernelspec": {
      "name": "python3",
      "display_name": "Python 3"
    },
    "language_info": {
      "name": "python"
    }
  },
  "cells": [
    {
      "cell_type": "markdown",
      "metadata": {
        "id": "view-in-github",
        "colab_type": "text"
      },
      "source": [
        "<a href=\"https://colab.research.google.com/github/d0k7/Analysis-and-Design-of-Algorithm-Lab-Code-in-Python/blob/main/1_To_implement_insertion_sort_in_Python.ipynb\" target=\"_parent\"><img src=\"https://colab.research.google.com/assets/colab-badge.svg\" alt=\"Open In Colab\"/></a>"
      ]
    },
    {
      "cell_type": "code",
      "execution_count": 1,
      "metadata": {
        "colab": {
          "base_uri": "https://localhost:8080/"
        },
        "id": "KoFHM7yuM4aV",
        "outputId": "0356ae66-018f-430f-9656-b671b03349cf"
      },
      "outputs": [
        {
          "output_type": "stream",
          "name": "stdout",
          "text": [
            "[1, 2, 3, 4, 5, 6]\n"
          ]
        }
      ],
      "source": [
        "def insertion_sort(arr):\n",
        "    for i in range(1, len(arr)):\n",
        "        j = i\n",
        "        while j > 0 and arr[j] < arr[j-1]:\n",
        "            arr[j], arr[j-1] = arr[j-1], arr[j]\n",
        "            j -= 1\n",
        "    return arr\n",
        "\n",
        "\n",
        "arr = [5, 2, 4, 6, 1, 3]\n",
        "insertion_sort(arr)\n",
        "print(arr)"
      ]
    },
    {
      "cell_type": "code",
      "source": [
        "\"\"\" Explanation:\n",
        "\n",
        "Here is a step-by-step explanation of the code:\n",
        "\n",
        "Define a function called insertion_sort that takes in a list arr.\n",
        "\n",
        "\n",
        "Initialize a loop that iterates over the indices of arr, starting at index 1. This loop variable is called i.\n",
        "\n",
        "\n",
        "Inside the loop, set a variable j equal to i. This variable will be used to iterate backwards through the list to find the correct position for the element at index i.\n",
        "\n",
        "\n",
        "Inside the loop, create a nested while loop that continues as long as j is greater than 0 (meaning there is still a previous element to compare to) \n",
        "and the element at index j is less than the element at index j-1.\n",
        "\n",
        "\n",
        "Inside the while loop, swap the values at indices j and j-1 using tuple unpacking.\n",
        "\n",
        "\n",
        "Decrement j by 1.\n",
        "\n",
        "\n",
        "Outside the while loop, but still inside the outer for loop, do nothing.\n",
        "\n",
        "\n",
        "After the for loop finishes, return arr.\n",
        "\n",
        "\n",
        "Here is an example of how the code would execute for a list [5, 2, 4, 6, 1, 3]:\n",
        "\n",
        "The outer for loop starts with i equal to 1. j is also set to 1.\n",
        "\n",
        "\n",
        "The while loop starts. The condition j > 0 is true (1 is greater than 0), and the condition arr[j] < arr[j-1] is also true (2 is less than 5).\n",
        "\n",
        "\n",
        "The values at indices 1 and 0 are swapped using tuple unpacking: arr becomes [2, 5, 4, 6, 1, 3].\n",
        "\n",
        "\n",
        "j is decremented by 1. It is now 0.\n",
        "\n",
        "\n",
        "The while loop starts again. The condition j > 0 is now false, so the loop ends.\n",
        "\n",
        "\n",
        "The outer for loop continues and i is incremented to 2. j is also set to 2.\n",
        "\n",
        "\n",
        "The while loop starts. The condition j > 0 is true (2 is greater than 0), and the condition arr[j] < arr[j-1] is false (4 is not less than 5), so the loop ends.\n",
        "\n",
        "\n",
        "The outer for loop continues and i is incremented to 3. j is also set to 3.\n",
        "\n",
        "\n",
        "The while loop starts. The condition j > 0 is true (3 is greater than 0), and the condition arr[j] < arr[j-1] is false (6 is not less than 5), so the loop ends.\n",
        "\n",
        "\n",
        "The outer for loop continues and i is incremented to 4. j is also set to 4.\n",
        "\n",
        "\n",
        "The while loop starts. The condition j > 0 is true (4 is greater than 0), and the condition arr[j] < arr[j-1] is true (1 is less than 6).\n",
        "\n",
        "\n",
        "The values at indices 4 and 3 are swapped using tuple unpacking: arr becomes [2, 5, 1, 4, 6, 3].\n",
        "\n",
        "\n",
        "j is decremented by 1. It is now 3.\n",
        "\n",
        "The while loop starts again. The condition j > 0 is true (3 is greater than 0), and the condition arr[j] < arr[j-1] is true (1 is less than 4).\n",
        "15\n",
        "\n",
        "\"\"\""
      ],
      "metadata": {
        "id": "ZIOGLUA-NU68"
      },
      "execution_count": null,
      "outputs": []
    },
    {
      "cell_type": "code",
      "source": [
        "\"\"\"Here's a line-by-line explanation of the code:\n",
        "\n",
        "def insertion_sort(arr):\n",
        "\n",
        "This line defines a function called insertion_sort that takes in a single argument arr.\n",
        "\n",
        "    for i in range(1, len(arr)):\n",
        "\n",
        "This line initializes a for loop that will iterate over the indices of arr, starting at index 1 and ending at the index before the last element. The loop variable is called i.\n",
        "\n",
        "        j = i\n",
        "\n",
        "This line sets a variable j equal to i. j will be used to iterate backwards through the list to find the correct position for the element at index i.\n",
        "\n",
        "\n",
        "        while j > 0 and arr[j] < arr[j-1]:\n",
        "\n",
        "This line starts a while loop that will continue as long as j is greater than 0 (meaning there is still a previous element to compare to) and the element at index j is less than the element at index j-1.\n",
        "\n",
        "\n",
        "            arr[j], arr[j-1] = arr[j-1], arr[j]\n",
        "\n",
        "\n",
        "This line swaps the values at indices j and j-1 using tuple unpacking.\n",
        "\n",
        "\n",
        "            j -= 1\n",
        "\n",
        "\n",
        "This line decrements j by 1.\n",
        "\n",
        "\n",
        "    return arr\n",
        "\n",
        "\n",
        "This line returns arr.\n",
        "\n",
        "\n",
        "\"\"\"\n"
      ],
      "metadata": {
        "id": "1-a0RTCPYs6f"
      },
      "execution_count": null,
      "outputs": []
    }
  ]
}