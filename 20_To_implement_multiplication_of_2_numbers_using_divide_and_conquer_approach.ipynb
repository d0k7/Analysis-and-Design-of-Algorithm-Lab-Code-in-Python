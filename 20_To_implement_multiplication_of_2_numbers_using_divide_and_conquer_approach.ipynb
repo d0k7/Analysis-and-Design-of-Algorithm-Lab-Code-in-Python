{
  "nbformat": 4,
  "nbformat_minor": 0,
  "metadata": {
    "colab": {
      "provenance": [],
      "authorship_tag": "ABX9TyN5SRZYZfMd2c/9vN2zG+TX",
      "include_colab_link": true
    },
    "kernelspec": {
      "name": "python3",
      "display_name": "Python 3"
    },
    "language_info": {
      "name": "python"
    }
  },
  "cells": [
    {
      "cell_type": "markdown",
      "metadata": {
        "id": "view-in-github",
        "colab_type": "text"
      },
      "source": [
        "<a href=\"https://colab.research.google.com/github/d0k7/Analysis-and-Design-of-Algorithm-Lab-Code-in-Python/blob/main/20_To_implement_multiplication_of_2_numbers_using_divide_and_conquer_approach.ipynb\" target=\"_parent\"><img src=\"https://colab.research.google.com/assets/colab-badge.svg\" alt=\"Open In Colab\"/></a>"
      ]
    },
    {
      "cell_type": "code",
      "execution_count": 7,
      "metadata": {
        "colab": {
          "base_uri": "https://localhost:8080/"
        },
        "id": "fTQN1qeRboiv",
        "outputId": "8febc61e-450a-4b3d-c0bd-b50bb3f3c701"
      },
      "outputs": [
        {
          "output_type": "stream",
          "name": "stdout",
          "text": [
            "7006652\n"
          ]
        }
      ],
      "source": [
        "def multiply(x, y):\n",
        "    return x * y if x < 10 or y < 10 else \\\n",
        "           multiply(x // 10, y // 10) * 10 ** 2 \\\n",
        "           + multiply(x % 10, y % 10) \\\n",
        "           + multiply(x // 10, y % 10) * 10 \\\n",
        "           + multiply(x % 10, y // 10) * 10\n",
        "\n",
        "\n",
        "print(multiply(1234, 5678)) \n"
      ]
    },
    {
      "cell_type": "code",
      "source": [
        "# Explanation of above code :-\n",
        "\n",
        "\"\"\"\n",
        "\n",
        "The function multiply takes two integers x and y as input.\n",
        "\n",
        "\n",
        "If either x or y is less than 10, the function simply returns the product of x and y.\n",
        "\n",
        "\n",
        "If both x and y are greater than or equal to 10, the function recursively breaks down both numbers into two digits or less by using integer division (//) and modulus (%) operators.\n",
        "\n",
        "\n",
        "The function then recursively computes the four partial products:\n",
        "\n",
        "1) multiply(x // 10, y // 10): the product of the tens digit of x and the tens digit of y.\n",
        "2) multiply(x % 10, y % 10): the product of the ones digit of x and the ones digit of y.\n",
        "3) multiply(x // 10, y % 10): the product of the tens digit of x and the ones digit of y.\n",
        "4) multiply(x % 10, y // 10): the product of the ones digit of x and the tens digit of y.\n",
        "\n",
        "\n",
        "The function then combines the four partial products using simple arithmetic operations to obtain the final product of x and y.\n",
        "\n",
        "\n",
        "Finally, the function returns the computed product.\n",
        "\n",
        "\n",
        "\n",
        "\n",
        "\"\"\""
      ],
      "metadata": {
        "id": "nSfN__nIckQn"
      },
      "execution_count": null,
      "outputs": []
    },
    {
      "cell_type": "code",
      "source": [
        "#Explain all cases time complexity of above code:-\n",
        "\n",
        "\"\"\"\n",
        "\n",
        "The time complexity of the above code is O(log n) because it uses a divide and conquer approach and recursively divides the problem into subproblems of half the size. \n",
        "Each recursive call takes O(1) time, and the number of recursive calls is proportional to the number of bits in the binary representation of the input numbers, \n",
        "which is log n. Therefore, the overall time complexity is O(log n).\n",
        "\n",
        "\n",
        "\"\"\""
      ],
      "metadata": {
        "id": "-Yt34tMedKdq"
      },
      "execution_count": null,
      "outputs": []
    }
  ]
}