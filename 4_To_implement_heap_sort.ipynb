{
  "nbformat": 4,
  "nbformat_minor": 0,
  "metadata": {
    "colab": {
      "provenance": [],
      "authorship_tag": "ABX9TyOAxnPiHkj4dca5F19WIFjD",
      "include_colab_link": true
    },
    "kernelspec": {
      "name": "python3",
      "display_name": "Python 3"
    },
    "language_info": {
      "name": "python"
    }
  },
  "cells": [
    {
      "cell_type": "markdown",
      "metadata": {
        "id": "view-in-github",
        "colab_type": "text"
      },
      "source": [
        "<a href=\"https://colab.research.google.com/github/d0k7/Analysis-and-Design-of-Algorithm-Lab-Code-in-Python/blob/main/4_To_implement_heap_sort.ipynb\" target=\"_parent\"><img src=\"https://colab.research.google.com/assets/colab-badge.svg\" alt=\"Open In Colab\"/></a>"
      ]
    },
    {
      "cell_type": "code",
      "execution_count": 1,
      "metadata": {
        "colab": {
          "base_uri": "https://localhost:8080/"
        },
        "id": "PzdtfAlkiQ6c",
        "outputId": "e2d6b0c9-c0c9-4c1c-f449-7c415dc8dc9a"
      },
      "outputs": [
        {
          "output_type": "stream",
          "name": "stdout",
          "text": [
            "[5, 6, 7, 11, 12, 13]\n"
          ]
        }
      ],
      "source": [
        "def heap_sort(arr):\n",
        "    n = len(arr)\n",
        "\n",
        "    for i in range(n // 2 - 1, -1, -1):\n",
        "        heapify(arr, n, i)\n",
        "\n",
        "    for i in range(n - 1, 0, -1):\n",
        "        arr[i], arr[0] = arr[0], arr[i]\n",
        "        heapify(arr, i, 0)\n",
        "\n",
        "def heapify(arr, n, i):\n",
        "    largest = i\n",
        "    l = 2 * i + 1\n",
        "    r = 2 * i + 2\n",
        "\n",
        "    if l < n and arr[largest] < arr[l]:\n",
        "        largest = l\n",
        "\n",
        "    if r < n and arr[largest] < arr[r]:\n",
        "        largest = r\n",
        "\n",
        "    if largest != i:\n",
        "        arr[i], arr[largest] = arr[largest], arr[i]\n",
        "        heapify(arr, n, largest)\n",
        "\n",
        "arr = [12, 11, 13, 5, 6, 7]\n",
        "heap_sort(arr)\n",
        "\n",
        "print(arr)\n"
      ]
    },
    {
      "cell_type": "code",
      "source": [
        "\"\"\"\n",
        "Explanation of above code:-\n",
        "\n",
        "\n",
        "The heap sort algorithm is a comparison-based sorting algorithm that uses a data structure called a heap to sort a given array. \n",
        "It has a time complexity of O(n*log(n)), making it more efficient than many other sorting algorithms, such as bubble sort and insertion sort.\n",
        "\n",
        "The provided Python code first defines the heapify function, which takes in an array arr, the size of the heap n, \n",
        "and the index i of the root node of the heap. The function then sets the largest variable to the index i and defines the indices l and r of the left and right child nodes,\n",
        " respectively.\n",
        "\n",
        "Next, the function compares the value at the largest index to the values at the l and r indices, and updates the largest index if necessary. \n",
        "If the largest index has been updated, the function swaps the values at the i and largest indices and then calls \n",
        "itself recursively on the sub-heap rooted at the largest index.\n",
        "\n",
        "The heap_sort function then builds a max heap by repeatedly calling the heapify function on the array and extracting the maximum element from the heap. \n",
        "It does this by iterating over the array from the middle to the beginning, and calling heapify on each index.\n",
        "\n",
        "Finally, the heap_sort function repeatedly extracts the maximum element from the heap and swaps it with the last element in the heap until the heap is sorted. \n",
        "It does this by iterating over the array from the end to the beginning and calling heapify on each index, except the last one.\n",
        "\n",
        "The resulting sorted array will be in ascending order. If you want the array to be in descending order, \n",
        "you can modify the comparison operators in the heapify function to use > instead of <.\n",
        "\n",
        "\"\"\""
      ],
      "metadata": {
        "id": "0MHMQhf1jgVF"
      },
      "execution_count": null,
      "outputs": []
    },
    {
      "cell_type": "code",
      "source": [
        "\"\"\"\n",
        "Here is a line-by-line explanation of the Python code for the heap sort algorithm:\n",
        "\n",
        "\n",
        "def heap_sort(arr):\n",
        "    n = len(arr)\n",
        "\n",
        "\n",
        "This function takes in an array arr and assigns its length to the variable n.\n",
        "\n",
        "\n",
        "    for i in range(n // 2 - 1, -1, -1):\n",
        "        heapify(arr, n, i)\n",
        "\n",
        "\n",
        "This loop iterates over the array from the middle to the beginning and calls the heapify function on each index. \n",
        "The heapify function will build a max heap from the given array.\n",
        "\n",
        "\n",
        "    for i in range(n - 1, 0, -1):\n",
        "        arr[i], arr[0] = arr[0], arr[i]\n",
        "        heapify(arr, i, 0)\n",
        "\n",
        "This loop iterates over the array from the end to the beginning and calls the heapify function on each index, except the last one. Each iteration of the loop extracts the maximum element from the heap and swaps it with the last element in the heap. \n",
        "This process continues until the heap is sorted.\n",
        "\n",
        "\n",
        "\n",
        "def heapify(arr, n, i):\n",
        "    largest = i\n",
        "    l = 2 * i + 1\n",
        "    r = 2 * i + 2\n",
        "\n",
        "\n",
        "This function takes in an array arr, the size of the heap n, and the index i of the root node of the heap. It then sets the largest variable \n",
        "to the index i and defines the indices l and r of the left and right child nodes, respectively.\n",
        "\n",
        "\n",
        "    if l < n and arr[largest] < arr[l]:\n",
        "        largest = l\n",
        "\n",
        "This line compares the value at the largest index to the value at the l index, \n",
        "and updates the largest index if necessary.\n",
        "\n",
        "\n",
        "    if r < n and arr[largest] < arr[r]:\n",
        "        largest = r\n",
        "\n",
        "This line compares the value at the largest index to the value at the r index, \n",
        "and updates the largest index if necessary.\n",
        "\n",
        "\n",
        "\n",
        "    if largest != i:\n",
        "        arr[i], arr[largest] = arr[largest], arr[i]\n",
        "        heapify(arr, n, largest)\n",
        "\n",
        "\n",
        "If the largest index has been updated, this line swaps the values at the i and largest indices and then calls the heapify function recursively on the sub-heap rooted at the largest index. \n",
        "This process continues until the heap is properly organized.\n",
        "\n",
        "\n",
        "The resulting sorted array will be in ascending order. If you want the array to be in descending order, you can modify the comparison operators in the heapify function \n",
        "to use > instead of <.\n",
        "\n",
        "\"\"\""
      ],
      "metadata": {
        "id": "nbrtgDACkkds"
      },
      "execution_count": null,
      "outputs": []
    },
    {
      "cell_type": "code",
      "source": [
        "\"\"\"\n",
        "Time complexity:-\n",
        "\n",
        "The time complexity of the heap sort algorithm depends on the specific implementation. In the provided Python code, the time complexity is as follows:\n",
        "\n",
        "Building the max heap has a time complexity of O(n). This is because the heapify function is called n/2 times, and each call takes O(1) time.\n",
        "\n",
        "Sorting the heap has a time complexity of O(n*log(n)). This is because the heapify function is called n times, and each call takes O(log(n)) time.\n",
        "\n",
        "Overall, the time complexity of the heap sort algorithm in the provided Python code is O(n*log(n)). \n",
        "This makes it more efficient than many other sorting algorithms, such as bubble sort and insertion sort, which have a time complexity of O(n^2).\n",
        "\n",
        "Note that the time complexity of the heap sort algorithm can vary depending on the specific implementation and the characteristics of the input array. \n",
        "In the worst case, the time complexity of the heap sort algorithm can be as high as O(nlog(n)), but in the average case, it is typically closer to O(nlog(n)).\n",
        "\n",
        "The time complexity of the heap sort algorithm in the provided Python code depends on the specific implementation and the characteristics of the input array. \n",
        "Here are the time complexity cases for the provided Python code:\n",
        "\n",
        "Best case: In the best case, the time complexity of the heap sort algorithm is O(n*log(n)). This occurs when the input array is already sorted.\n",
        "\n",
        "Average case: In the average case, the time complexity of the heap sort algorithm is O(n*log(n)). This is the expected time complexity for a randomly ordered input array.\n",
        "\n",
        "Worst case: In the worst case, the time complexity of the heap sort algorithm is O(n*log(n)). This occurs when the input array is sorted in reverse order.\n",
        "\n",
        "Overall, the time complexity of the heap sort algorithm in the provided Python code is O(n*log(n)), \n",
        "which makes it more efficient than many other sorting algorithms, such as bubble sort and insertion sort, which have a time complexity of O(n^2).\n",
        "\n",
        "\"\"\""
      ],
      "metadata": {
        "id": "eoo8Ek52ltH5"
      },
      "execution_count": null,
      "outputs": []
    }
  ]
}