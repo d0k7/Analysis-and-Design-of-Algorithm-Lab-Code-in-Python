{
  "nbformat": 4,
  "nbformat_minor": 0,
  "metadata": {
    "colab": {
      "provenance": [],
      "authorship_tag": "ABX9TyPBszHauHJK8ogfe1qlrFCf",
      "include_colab_link": true
    },
    "kernelspec": {
      "name": "python3",
      "display_name": "Python 3"
    },
    "language_info": {
      "name": "python"
    }
  },
  "cells": [
    {
      "cell_type": "markdown",
      "metadata": {
        "id": "view-in-github",
        "colab_type": "text"
      },
      "source": [
        "<a href=\"https://colab.research.google.com/github/d0k7/Analysis-and-Design-of-Algorithm-Lab-Code-in-Python/blob/main/3_To_implement_bubble_sort_in_python.ipynb\" target=\"_parent\"><img src=\"https://colab.research.google.com/assets/colab-badge.svg\" alt=\"Open In Colab\"/></a>"
      ]
    },
    {
      "cell_type": "code",
      "execution_count": null,
      "metadata": {
        "colab": {
          "base_uri": "https://localhost:8080/"
        },
        "id": "LcOUTWaByilj",
        "outputId": "ec3098e1-0eef-4df9-b2c5-9c085b4d736a"
      },
      "outputs": [
        {
          "output_type": "stream",
          "name": "stdout",
          "text": [
            "[5, 7, 9, 12, 745, 1245, 4566, 8977, 78900, 9876543]\n"
          ]
        }
      ],
      "source": [
        "def bubble_sort(lst):\n",
        "    # Iterate through the list, comparing adjacent elements\n",
        "    # and swapping them if they are in the wrong order\n",
        "    for i in range(len(lst) - 1):\n",
        "        for j in range(len(lst) - 1 - i):\n",
        "            if lst[j] > lst[j + 1]:\n",
        "                lst[j], lst[j + 1] = lst[j + 1], lst[j]\n",
        "\n",
        "    return lst\n",
        "# sort a list of numbers\n",
        "sorted_list = bubble_sort([5,4566,78900,1245,8977,9,12,7,9876543,745])\n",
        "\n",
        "# the sorted list will be returned and can be stored in a variable\n",
        "print(sorted_list) # This will display sorted list\n"
      ]
    },
    {
      "cell_type": "code",
      "source": [
        "  \"\"\"Here is a step-by-step explanation of the code you provided:\n",
        "\n",
        "The code defines a function named bubble_sort that takes a list as an argument.\n",
        "\n",
        "The function then uses a double for loop to iterate through the list.\n",
        "The outer for loop iterates through the list, while the inner for loop iterates through the list backwards, starting from the end and moving towards the front.\n",
        "\n",
        "For each pair of adjacent elements, the code compares the elements and swaps them if the first element is greater than the second element. \n",
        "This continues until the list is fully sorted.\n",
        "\n",
        "\n",
        "After the double for loop completes, the function returns the sorted list. \"\"\""
      ],
      "metadata": {
        "id": "Ncv_JRHKy06K"
      },
      "execution_count": null,
      "outputs": []
    },
    {
      "cell_type": "code",
      "source": [
        "\"\"\" Here is an explanation of the code, line by line:\n",
        "\n",
        "def bubble_sort(lst): - This line defines a function called bubble_sort() that takes a single argument, lst, which represents the list of numbers that we want to sort.\n",
        "\n",
        "\n",
        "for i in range(len(lst) - 1): - This line starts a for loop that will iterate over all the elements in the list, except the last one.\n",
        "The loop variable i is used to keep track of the current position in the list.\n",
        "\n",
        "\n",
        "for j in range(len(lst) - 1 - i): - This line starts a nested for loop that will iterate over a sub-section of the list. \n",
        "The loop variable j is used to keep track of the current position within the sub-section of the list. \n",
        "The sub-section starts at the beginning of the list and ends at the second-to-last element.\n",
        "\n",
        "\n",
        "if lst[j] > lst[j + 1]: - This line checks if the current element (lst[j]) is greater than the next element (lst[j + 1]) in the list. \n",
        "If this is the case, it means that the two elements are out of order, and we need to swap them.\n",
        "\n",
        "\n",
        "lst[j], lst[j + 1] = lst[j + 1], lst[j] - This line swaps the current element and the next element in the list. \n",
        "It uses Python's tuple unpacking syntax to swap the values of the two elements in a single line of code.\n",
        "\n",
        "\n",
        "return lst - This line returns the sorted list of numbers.\n",
        "\n",
        "\n",
        "After the bubble_sort() function is defined, the code then uses the function to sort a list of numbers and prints out the resulting sorted list.\"\"\"\n"
      ],
      "metadata": {
        "id": "YYmZ66El_Ghx"
      },
      "execution_count": null,
      "outputs": []
    }
  ]
}