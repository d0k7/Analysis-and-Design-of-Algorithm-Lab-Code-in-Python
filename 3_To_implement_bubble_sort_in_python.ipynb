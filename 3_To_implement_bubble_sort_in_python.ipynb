{
  "nbformat": 4,
  "nbformat_minor": 0,
  "metadata": {
    "colab": {
      "provenance": [],
      "include_colab_link": true
    },
    "kernelspec": {
      "name": "python3",
      "display_name": "Python 3"
    },
    "language_info": {
      "name": "python"
    }
  },
  "cells": [
    {
      "cell_type": "markdown",
      "metadata": {
        "id": "view-in-github",
        "colab_type": "text"
      },
      "source": [
        "<a href=\"https://colab.research.google.com/github/d0k7/Analysis-and-Design-of-Algorithm-Lab-Code-in-Python/blob/main/3_To_implement_bubble_sort_in_python.ipynb\" target=\"_parent\"><img src=\"https://colab.research.google.com/assets/colab-badge.svg\" alt=\"Open In Colab\"/></a>"
      ]
    },
    {
      "cell_type": "code",
      "execution_count": 1,
      "metadata": {
        "colab": {
          "base_uri": "https://localhost:8080/"
        },
        "id": "LcOUTWaByilj",
        "outputId": "1d43000b-f8c2-4540-d25d-178ae54c2a61"
      },
      "outputs": [
        {
          "output_type": "stream",
          "name": "stdout",
          "text": [
            "[1, 2, 3, 4, 5, 6]\n"
          ]
        }
      ],
      "source": [
        "def bubble_sort(arr):\n",
        "    n = len(arr)\n",
        "    for i in range(n):\n",
        "        for j in range(n-i-1):\n",
        "            if arr[j] > arr[j+1]:\n",
        "                arr[j], arr[j+1] = arr[j+1], arr[j]\n",
        "    return arr\n",
        "\n",
        "arr = [5, 2, 4, 6, 1, 3]\n",
        "sorted_arr = bubble_sort(arr)\n",
        "print(sorted_arr) \n"
      ]
    },
    {
      "cell_type": "code",
      "source": [
        "\"\"\"\n",
        "Here is a step-by-step explanation of the code you provided:\n",
        "\n",
        "The bubble_sort() function takes in a single parameter, arr, which is a list of elements that need to be sorted. \n",
        "The function first determines the length of the list using the len() function and assigns it to the variable n.\n",
        "\n",
        "The function then enters a loop that iterates over the range 0 to n-1, with the loop variable i. \n",
        "Inside this loop, there is another loop that iterates over the range 0 to n-i-1, with the loop variable j.\n",
        "\n",
        "The inner loop compares the elements at index j and j+1 of the list. \n",
        "If the element at index j is greater than the element at index j+1, the two elements are swapped using tuple unpacking. \n",
        "This process is repeated for each pair of adjacent elements until the inner loop completes.\n",
        "\n",
        "After the inner loop completes, the outer loop continues to the next iteration with i incremented by 1. \n",
        "This process is repeated until the outer loop completes, at which point the sorted list is returned.\n",
        "\n",
        "For example, in the first iteration of the outer loop with i equal to 0, the inner loop will compare the elements at index 0 and 1, \n",
        "then the elements at index 1 and 2, and so on, until the element at index n-2 and n-1. \n",
        "If any of these pairs of elements are in the wrong order, they will be swapped. \n",
        "This process is repeated for each iteration of the outer loop until the list is sorted.\n",
        "\n",
        "\"\"\""
      ],
      "metadata": {
        "id": "Ncv_JRHKy06K"
      },
      "execution_count": null,
      "outputs": []
    },
    {
      "cell_type": "code",
      "source": [
        "\"\"\"\n",
        " Here is an explanation of the code, line by line:\n",
        "\n",
        "def bubble_sort(arr):\n",
        "\n",
        "This line defines a function called bubble_sort that takes in a single argument arr, which is the list to be sorted.\n",
        "\n",
        "\n",
        "\n",
        "    n = len(arr)\n",
        "\n",
        "\n",
        "This line calculates the length of arr and assigns it to the variable n.\n",
        "\n",
        "\n",
        "\n",
        "    for i in range(n):\n",
        "\n",
        "This line starts a for loop that will iterate over the indices of arr. The loop variable is called i.\n",
        "\n",
        "\n",
        "\n",
        "        for j in range(n-i-1):\n",
        "\n",
        "\n",
        "This line starts a nested for loop that will also iterate over the indices of arr. The loop variable is called j. The range of j is n-i-1, which means that the inner loop will iterate over the elements of arr from the beginning to the second-to-last element on the first iteration, from the beginning to the third-to-last element on the second iteration, and so on. This is done to ensure that the inner loop only compares elements that have not already been sorted by previous iterations of the outer loop.\n",
        "\n",
        "\n",
        "\n",
        "            if arr[j] > arr[j+1]:\n",
        "                arr[j], arr[j+1] = arr[j+1], arr[j]\n",
        "\n",
        "This block of code compares the elements at indices j and j+1 and swaps them if the element at index j is greater than the element at index j+1.\n",
        "\n",
        "\n",
        "\n",
        "    return arr\n",
        "\n",
        "\"\"\"\n"
      ],
      "metadata": {
        "id": "YYmZ66El_Ghx"
      },
      "execution_count": null,
      "outputs": []
    },
    {
      "cell_type": "code",
      "source": [
        "\"\"\"\n",
        "The time complexity of bubble sort is O(n^2) in the worst case and O(n) in the best case.\n",
        "\n",
        "The average case time complexity of bubble sort is also O(n^2).\n",
        "\n",
        "In the worst case, the list is not already sorted and the algorithm must swap elements on every iteration, \n",
        "leading to O(n^2) time complexity. For example, if the list is in descending order, the algorithm will have to perform n-1 comparisons on the first pass, \n",
        "n-2 on the second pass, and so on, leading to a total of (n-1) + (n-2) + ... + 2 + 1 comparisons, which is equal to n(n-1)/2 or O(n^2) comparisons.\n",
        "\n",
        "In the best case, the list is already sorted and no swaps are required, leading to O(n) time complexity.\n",
        "\n",
        "Bubble sort is not a very efficient sorting algorithm and there are many other algorithms that have better time complexity, \n",
        "such as quicksort, mergesort, and heapsort. These algorithms have time complexities of O(n log n) in the average and worst case, \n",
        "making them much more efficient for large lists.\n",
        "\n",
        "\n",
        "\n",
        "\"\"\""
      ],
      "metadata": {
        "id": "L1JccVjUrdcc"
      },
      "execution_count": null,
      "outputs": []
    }
  ]
}