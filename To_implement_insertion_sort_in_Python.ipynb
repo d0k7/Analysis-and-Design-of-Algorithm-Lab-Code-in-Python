{
  "nbformat": 4,
  "nbformat_minor": 0,
  "metadata": {
    "colab": {
      "provenance": [],
      "authorship_tag": "ABX9TyM0ogRn/xZcrycSx1nXlmPZ",
      "include_colab_link": true
    },
    "kernelspec": {
      "name": "python3",
      "display_name": "Python 3"
    },
    "language_info": {
      "name": "python"
    }
  },
  "cells": [
    {
      "cell_type": "markdown",
      "metadata": {
        "id": "view-in-github",
        "colab_type": "text"
      },
      "source": [
        "<a href=\"https://colab.research.google.com/github/d0k7/Analysis-and-Design-of-Algorithm-Lab-Code-in-Python/blob/main/To_implement_insertion_sort_in_Python.ipynb\" target=\"_parent\"><img src=\"https://colab.research.google.com/assets/colab-badge.svg\" alt=\"Open In Colab\"/></a>"
      ]
    },
    {
      "cell_type": "code",
      "execution_count": null,
      "metadata": {
        "colab": {
          "base_uri": "https://localhost:8080/"
        },
        "id": "KoFHM7yuM4aV",
        "outputId": "14b323c0-f501-4a60-ecd7-7ec97fad0860"
      },
      "outputs": [
        {
          "output_type": "stream",
          "name": "stdout",
          "text": [
            "The unsorted list is: [10, 5, 13, 8, 2]\n",
            "The sorted list1 is: [2, 5, 8, 10, 13]\n"
          ]
        }
      ],
      "source": [
        "# creating a function for insertion sort \n",
        "def insertion_sort(list1):  \n",
        "  \n",
        "        # Outer loop to traverse through 1 to len(list1)  \n",
        "        for i in range(1, len(list1)):  \n",
        "  \n",
        "            value = list1[i]  \n",
        "  \n",
        "            # Move elements of list1[0..i-1], that are  \n",
        "            # greater than value, to one position ahead  \n",
        "            # of their current position  \n",
        "            j = i - 1  \n",
        "            while j >= 0 and value < list1[j]:  \n",
        "                list1[j + 1] = list1[j]  \n",
        "                j -= 1  \n",
        "            list1[j + 1] = value  \n",
        "        return list1  \n",
        "            # Driver code to test above  \n",
        "  \n",
        "list1 = [10, 5, 13, 8, 2]  \n",
        "print(\"The unsorted list is:\", list1)  \n",
        "  \n",
        "print(\"The sorted list1 is:\", insertion_sort(list1))  "
      ]
    },
    {
      "cell_type": "code",
      "source": [
        "# Explanation:\n",
        "\n",
        "# In the above code, we have created a function called insertion_sort(list1). Inside the function -\n",
        "\n",
        "# We defined for loop for traverse the list from 1 to len(list1).\n",
        "\n",
        "# In for loop, assigned a values of list1 in value Every time the loop will iterate the new value will assign to the value variable.\n",
        "\n",
        "# Next, we moved the elements of list1[0…i-1], that are greater than the value, to one position ahead of their current position.\n",
        "\n",
        "# Now, we used the while to check whether the j is greater or equal than 0, and the value is smaller than the first element of the list.\n",
        "\n",
        "# If both conditions are true then move the first element to the 0th index and reduce the value of j and so on.\n",
        "\n",
        "# After that, we called the function and passed the list and printed the result."
      ],
      "metadata": {
        "id": "ZIOGLUA-NU68"
      },
      "execution_count": null,
      "outputs": []
    },
    {
      "cell_type": "code",
      "source": [],
      "metadata": {
        "id": "1-a0RTCPYs6f"
      },
      "execution_count": null,
      "outputs": []
    }
  ]
}