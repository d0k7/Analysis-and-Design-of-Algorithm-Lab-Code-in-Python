{
  "nbformat": 4,
  "nbformat_minor": 0,
  "metadata": {
    "colab": {
      "provenance": [],
      "authorship_tag": "ABX9TyPk+dLe/gdi0lrUaJm53CAQ",
      "include_colab_link": true
    },
    "kernelspec": {
      "name": "python3",
      "display_name": "Python 3"
    },
    "language_info": {
      "name": "python"
    }
  },
  "cells": [
    {
      "cell_type": "markdown",
      "metadata": {
        "id": "view-in-github",
        "colab_type": "text"
      },
      "source": [
        "<a href=\"https://colab.research.google.com/github/d0k7/Analysis-and-Design-of-Algorithm-Lab-Code-in-Python/blob/main/21_To_implement_multiplication_of_2_numbers_counting_Inversions_using_Divide_and_Conquer_Approach.ipynb\" target=\"_parent\"><img src=\"https://colab.research.google.com/assets/colab-badge.svg\" alt=\"Open In Colab\"/></a>"
      ]
    },
    {
      "cell_type": "code",
      "execution_count": 5,
      "metadata": {
        "colab": {
          "base_uri": "https://localhost:8080/"
        },
        "id": "pjm5X8xSd-U6",
        "outputId": "019ef479-40ad-44e3-e233-56865b7f4827"
      },
      "outputs": [
        {
          "output_type": "stream",
          "name": "stdout",
          "text": [
            "5\n"
          ]
        }
      ],
      "source": [
        "def count_inversions(arr):\n",
        "   if len(arr) <= 1:\n",
        "      return 0\n",
        "\n",
        "   mid = len(arr) // 2\n",
        "   left = arr[:mid]\n",
        "   right = arr[mid:]\n",
        "\n",
        "   inversions = count_inversions(left) + count_inversions(right)\n",
        "\n",
        "   i = j = k = 0\n",
        "   while i < len(left) and j < len(right):\n",
        "      if left[i] <= right[j]:\n",
        "         arr[k] = left[i]\n",
        "         i += 1\n",
        "      else:\n",
        "         arr[k] = right[j]\n",
        "         j += 1\n",
        "         inversions += len(left) - i\n",
        "\n",
        "      k += 1\n",
        "\n",
        "   while i < len(left):\n",
        "      arr[k] = left[i]\n",
        "      i += 1\n",
        "      k += 1\n",
        "\n",
        "   while j < len(right):\n",
        "      arr[k] = right[j]\n",
        "      j += 1\n",
        "      k += 1\n",
        "\n",
        "   return inversions\n",
        "\n",
        "\n",
        "\n",
        "arr = [1, 20, 6, 4, 5]\n",
        "print(count_inversions(arr)) \n",
        " \n"
      ]
    },
    {
      "cell_type": "code",
      "source": [
        "# Explanation of above code :-\n",
        "\n",
        "\"\"\"\n",
        "\n",
        "The function takes an array arr as input and checks if the length of the array is less than or equal to 1. If yes, it returns 0 since there are no \n",
        "inversions in an array of length 1.\n",
        "\n",
        "\n",
        "\n",
        "If the length of the array is greater than 1, it finds the middle index of the array and splits the array into two parts - left and right.\n",
        "\n",
        "\n",
        "\n",
        "The function recursively calls itself on the left and right arrays to find the number of inversions in each of them.\n",
        "\n",
        "\n",
        "\n",
        "The inversions in the left and right arrays are then combined by counting the number of inversions that occur when elements from both arrays are merged. This is \n",
        "done using a while loop that iterates through the left and right arrays, compares the elements at the current indices, and adds the number of inversions accordingly.\n",
        "\n",
        "\n",
        "\n",
        "Once the inversions have been counted, the function returns the total number of inversions in the array.\n",
        "\n",
        "\n",
        "\n",
        "\n",
        "\"\"\""
      ],
      "metadata": {
        "id": "lwZS8DuJfIR2"
      },
      "execution_count": null,
      "outputs": []
    },
    {
      "cell_type": "code",
      "source": [
        "#Explain all cases time complexity of above code:-\n",
        "\n",
        "\"\"\"\n",
        "\n",
        "Best Case: The best case occurs when the input array is already sorted. In this case, the algorithm will perform n comparisons and return 0 inversions, \n",
        "where n is the length of the array. The time complexity of this case is O(n).\n",
        "\n",
        "\n",
        "Worst Case: The worst case occurs when the input array is sorted in reverse order. In this case, the algorithm will perform n log n comparisons and return the \n",
        "maximum number of inversions, which is n choose 2 or (n(n-1))/2. The time complexity of this case is O(n log n).\n",
        "\n",
        "\n",
        "\n",
        "Average Case: The average case occurs when the input array is randomly ordered. In this case, the algorithm will perform n log n comparisons on average, \n",
        "since each comparison has a 50% chance of resulting in an inversion. The time complexity of this case is O(n log n).\n",
        "\n",
        "\n",
        "\n",
        "The space complexity of the algorithm is also O(n log n) due to the recursive calls that are made on the sub-arrays. Overall, \n",
        "the Counting Inversions algorithm using Divide and Conquer Approach provides an efficient solution for counting inversions in an array with a time \n",
        "complexity of O(n log n) in the worst case.\n",
        "\n",
        "\n",
        "\"\"\""
      ],
      "metadata": {
        "id": "QmkEU9xkfv9J"
      },
      "execution_count": null,
      "outputs": []
    }
  ]
}