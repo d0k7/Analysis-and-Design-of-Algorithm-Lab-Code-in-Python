{
  "nbformat": 4,
  "nbformat_minor": 0,
  "metadata": {
    "colab": {
      "provenance": [],
      "authorship_tag": "ABX9TyN8C6HYmpasImDT/9ewI8Mk",
      "include_colab_link": true
    },
    "kernelspec": {
      "name": "python3",
      "display_name": "Python 3"
    },
    "language_info": {
      "name": "python"
    }
  },
  "cells": [
    {
      "cell_type": "markdown",
      "metadata": {
        "id": "view-in-github",
        "colab_type": "text"
      },
      "source": [
        "<a href=\"https://colab.research.google.com/github/d0k7/Analysis-and-Design-of-Algorithm-Lab-Code-in-Python/blob/main/12_To_implement_maximum_sum_of_sub_array_problem_.ipynb\" target=\"_parent\"><img src=\"https://colab.research.google.com/assets/colab-badge.svg\" alt=\"Open In Colab\"/></a>"
      ]
    },
    {
      "cell_type": "code",
      "execution_count": 1,
      "metadata": {
        "colab": {
          "base_uri": "https://localhost:8080/"
        },
        "id": "sKGKlvuezhDg",
        "outputId": "b3947162-1add-4623-9ef3-eada6c80328e"
      },
      "outputs": [
        {
          "output_type": "stream",
          "name": "stdout",
          "text": [
            "6\n"
          ]
        }
      ],
      "source": [
        "def max_subarray_sum(arr):\n",
        "    max_sum = curr_sum = arr[0]\n",
        "    for num in arr[1:]:\n",
        "        curr_sum = max(num, curr_sum+num)\n",
        "        max_sum = max(max_sum, curr_sum)\n",
        "    return max_sum\n",
        "arr = [-2, 1, -3, 4, -1, 2, 1, -5, 4]\n",
        "\n",
        "print(max_subarray_sum(arr))  # Output: 6\n"
      ]
    },
    {
      "cell_type": "code",
      "source": [
        "# Explanation of code:-\n",
        "\n",
        "\"\"\"\n",
        "\n",
        "The function max_subarray_sum takes an array arr as an input.\n",
        "\n",
        "Two variables max_sum and curr_sum are initialized with the first element of the input array arr. \n",
        "max_sum will store the maximum sum seen so far and curr_sum will store the maximum sum ending at the current position.\n",
        "\n",
        "The function iterates over each element num in the input array arr, starting from the second element.\n",
        "\n",
        "The curr_sum is updated with the maximum of num and curr_sum + num. This means that if num is greater than the sum of the previous subarray, \n",
        "we start a new subarray with num. This is the essence of Kadane's algorithm.\n",
        "\n",
        "The max_sum is updated with the new maximum sum if it is greater than the previous max_sum.\n",
        "\n",
        "Once the loop finishes iterating over all the elements in the array, the function returns the value stored in max_sum, \n",
        "which is the maximum sum of any contiguous subarray in the input array arr.\n",
        "\n",
        "That's it! This algorithm has a time complexity of O(n), where n is the length of the input array arr, making it an efficient solution to the maximum subarray problem.\n",
        "\n",
        "\"\"\""
      ],
      "metadata": {
        "id": "eHK0D5Doz80G"
      },
      "execution_count": null,
      "outputs": []
    },
    {
      "cell_type": "code",
      "source": [
        "# Output Explanation:-\n",
        "\n",
        "\"\"\"\n",
        "\n",
        "The first element in the array is -2, so both max_sum and curr_sum are initialized to -2.\n",
        "\n",
        "Then the loop starts iterating from the second element of the array, which is 1.\n",
        "\n",
        "At this point, curr_sum is updated to the maximum of 1 and -2 + 1, which is 1. max_sum remains -2.\n",
        "\n",
        "The next element in the array is -3. curr_sum is updated to the maximum of -3 and 1 + (-3), which is -2. max_sum remains -2.\n",
        "\n",
        "The fourth element is 4. curr_sum is updated to the maximum of 4 and -2 + 4, which is 4. max_sum is updated to 4 as well.\n",
        "\n",
        "The fifth element is -1. curr_sum is updated to the maximum of -1 and 4 + (-1), which is 3. max_sum remains 4.\n",
        "\n",
        "The sixth element is 2. curr_sum is updated to the maximum of 2 and 3 + 2, which is 5. max_sum is updated to 5 as well.\n",
        "\n",
        "The seventh element is 1. curr_sum is updated to the maximum of 1 and 5 + 1, which is 6. max_sum is updated to 6 as well.\n",
        "\n",
        "The eighth element is -5. curr_sum is updated to the maximum of -5 and 6 + (-5), which is 1. max_sum remains 6.\n",
        "\n",
        "Finally, the last element is 4. curr_sum is updated to the maximum of 4 and 1 + 4, which is 5. max_sum remains 6.\n",
        "\n",
        "At this point, the loop has finished iterating over all the elements in the array. The value stored in max_sum is the maximum sum of any contiguous subarray in the input array arr. \n",
        "Therefore, the output of the function max_subarray_sum(arr) is 6.\n",
        "\n",
        "\n",
        "\n",
        "\"\"\""
      ],
      "metadata": {
        "id": "RW_-Kse31Cvp"
      },
      "execution_count": null,
      "outputs": []
    },
    {
      "cell_type": "code",
      "source": [
        "# All case time complexity:-\n",
        "\n",
        "\"\"\"\n",
        "\n",
        "Let's analyze the time complexity of the max_subarray_sum function for all cases:\n",
        "\n",
        "Best case: O(1)\n",
        "\n",
        "If the input array has only one element, the loop is skipped and the function immediately returns the value of that element. Therefore, the time complexity is constant.\n",
        "Average case: O(n)\n",
        "\n",
        "If the input array has more than one element, the function iterates over each element of the array exactly once. This means that the time complexity is proportional to the length of the input array, which is n. Therefore, the time complexity is linear.\n",
        "Worst case: O(n)\n",
        "\n",
        "If the input array has more than one element, the function iterates over each element of the array exactly once. This means that the time complexity is proportional to the length of the input array, which is n. Therefore, the time complexity is linear.\n",
        "In summary, the max_subarray_sum function has a time complexity of O(n) for all cases, which means that it is a very efficient solution to the maximum subarray problem.\n",
        "\n",
        "\"\"\""
      ],
      "metadata": {
        "id": "JDlDwpjO1dOr"
      },
      "execution_count": null,
      "outputs": []
    }
  ]
}