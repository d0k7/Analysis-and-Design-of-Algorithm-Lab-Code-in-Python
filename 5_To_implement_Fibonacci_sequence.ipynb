{
  "nbformat": 4,
  "nbformat_minor": 0,
  "metadata": {
    "colab": {
      "provenance": [],
      "authorship_tag": "ABX9TyMPJu3Xb1MrrYl1Wrk14CnX",
      "include_colab_link": true
    },
    "kernelspec": {
      "name": "python3",
      "display_name": "Python 3"
    },
    "language_info": {
      "name": "python"
    }
  },
  "cells": [
    {
      "cell_type": "markdown",
      "metadata": {
        "id": "view-in-github",
        "colab_type": "text"
      },
      "source": [
        "<a href=\"https://colab.research.google.com/github/d0k7/Analysis-and-Design-of-Algorithm-Lab-Code-in-Python/blob/main/5_To_implement_Fibonacci_sequence.ipynb\" target=\"_parent\"><img src=\"https://colab.research.google.com/assets/colab-badge.svg\" alt=\"Open In Colab\"/></a>"
      ]
    },
    {
      "cell_type": "code",
      "execution_count": 7,
      "metadata": {
        "colab": {
          "base_uri": "https://localhost:8080/"
        },
        "id": "3F48JDr2nIp-",
        "outputId": "4908b4e8-0610-42a9-e793-1c57662ed5fc"
      },
      "outputs": [
        {
          "output_type": "stream",
          "name": "stdout",
          "text": [
            "0\n",
            "1\n",
            "1\n",
            "2\n",
            "3\n",
            "5\n",
            "8\n",
            "13\n",
            "21\n",
            "34\n"
          ]
        }
      ],
      "source": [
        "#1 Code:- \n",
        "def fibonacci(n):\n",
        "    if n <= 1:\n",
        "        return n\n",
        "    else:\n",
        "        return fibonacci(n - 1) + fibonacci(n - 2)\n",
        "\n",
        "for i in range(10):\n",
        "    print(fibonacci(i))"
      ]
    },
    {
      "cell_type": "code",
      "source": [
        "#2 Code:-\n",
        "def fibonacci(n):\n",
        "    a, b = 0, 1\n",
        "    for _ in range(n):\n",
        "        a, b = b, a + b\n",
        "    return a\n",
        "\n",
        "for i in range(10):\n",
        "    print(fibonacci(i))\n"
      ],
      "metadata": {
        "colab": {
          "base_uri": "https://localhost:8080/"
        },
        "id": "AzBsFPRUpaCk",
        "outputId": "c9c6d72a-8cc9-4704-e99b-f63ad63d9177"
      },
      "execution_count": 8,
      "outputs": [
        {
          "output_type": "stream",
          "name": "stdout",
          "text": [
            "0\n",
            "1\n",
            "1\n",
            "2\n",
            "3\n",
            "5\n",
            "8\n",
            "13\n",
            "21\n",
            "34\n"
          ]
        }
      ]
    },
    {
      "cell_type": "code",
      "source": [
        "\"\"\"\n",
        "#1st code Explanation\n",
        "\n",
        "This code defines a function fibonacci that takes an integer n as input and returns the n-th number in the Fibonacci sequence.\n",
        "\n",
        "The Fibonacci sequence is a series of numbers in which each number is the sum of the two preceding ones, usually starting with 0 and 1. \n",
        "In this case, the function uses a recursive approach to calculate the Fibonacci number.\n",
        "\n",
        "The function first checks if n is less than or equal to 1. If it is, it returns n. Otherwise, it returns the sum of the (n - 1)-th and (n - 2)-th \n",
        "Fibonacci numbers, which are calculated recursively.\n",
        "\n",
        "The code then uses a for loop to iterate over the range [0, 1, 2, ..., 9] and prints the Fibonacci number at each index.\n",
        "\n",
        "So the output of this code will be the first 10 numbers in the Fibonacci sequence: 0, 1, 1, 2, 3, 5, 8, 13, 21, 34.\n",
        "\n",
        "\"\"\""
      ],
      "metadata": {
        "id": "RrZKJvwMpbBB"
      },
      "execution_count": null,
      "outputs": []
    },
    {
      "cell_type": "code",
      "source": [
        "\"\"\"\n",
        "#1st code line by line explanation\n",
        "\n",
        "def fibonacci(n):\n",
        "\n",
        "\n",
        "This line defines a function called fibonacci that takes a single parameter n.\n",
        "\n",
        "\n",
        "    if n <= 1:\n",
        "        return n\n",
        "\n",
        "This if statement checks if n is less than or equal to 1. \n",
        "If it is, the function returns n.\n",
        "\n",
        "\n",
        "\n",
        "    else:\n",
        "        return fibonacci(n - 1) + fibonacci(n - 2)\n",
        "\n",
        "If n is not less than or equal to 1, the function returns the sum of the (n - 1)-th and (n - 2)-th Fibonacci numbers, \n",
        "which are calculated recursively.\n",
        "\n",
        "\n",
        "for i in range(10):\n",
        "\n",
        "This line starts a for loop that will iterate over the range [0, 1, 2, ..., 9]. \n",
        "The loop variable i will take on each value in the range in turn.\n",
        "\n",
        "\n",
        "    print(fibonacci(i))\n",
        "\n",
        "\n",
        "This line calls the fibonacci function \n",
        "with the current value of i as the argument and prints the result.\n",
        "\n",
        "\"\"\""
      ],
      "metadata": {
        "id": "c5uhoLuuqiCR"
      },
      "execution_count": null,
      "outputs": []
    },
    {
      "cell_type": "code",
      "source": [
        "\"\"\"\n",
        "#2nd code Explanation\n",
        "\n",
        "This code defines a function fibonacci that takes an input n and returns the nth element of the Fibonacci sequence. \n",
        "The Fibonacci sequence is a series of numbers in which each number is the sum of the two preceding ones, usually starting with 0 and 1.\n",
        "\n",
        "The function uses a loop to iterate n times, using tuple assignment to update the values of a and b on each iteration. \n",
        "The loop starts with the values a=0 and b=1, and on each iteration, it updates a to be the value of b and b to be the sum of the previous values of a and b.\n",
        "\n",
        "The code then prints out the first 10 elements of the Fibonacci sequence by calling the fibonacci function in a loop and passing in values from 0 to 9 as the input. \n",
        "\n",
        "\"\"\""
      ],
      "metadata": {
        "id": "7-NC3bIrrjEp"
      },
      "execution_count": null,
      "outputs": []
    },
    {
      "cell_type": "code",
      "source": [
        "\"\"\"\n",
        "#2nd code line by line explanation:-\n",
        "\n",
        "\n",
        "def fibonacci(n):\n",
        "\n",
        "\n",
        "This line defines a function called fibonacci that takes a single argument n.\n",
        "\n",
        "\n",
        "    a, b = 0, 1\n",
        "\n",
        "This line initializes the variables a and b to the values 0 and 1, respectively.\n",
        "\n",
        "\n",
        "\n",
        "    for _ in range(n):\n",
        "\n",
        "This line starts a loop that will iterate n times. \n",
        "The loop variable _ is a common convention in Python to indicate that \n",
        "the loop variable is not used in the loop body, \n",
        "so it is often used as a placeholder for a loop variable that is not needed. \n",
        "\n",
        "\n",
        "\n",
        "        a, b = b, a + b\n",
        "\n",
        "This line updates the values of a and b using tuple assignment. \n",
        "The value of b is assigned to a, and the value of a + b is assigned to b. \n",
        "This has the effect of shifting the values of a and b one position to the right in the Fibonacci sequence.        \n",
        "\n",
        "\n",
        "\n",
        "    return a\n",
        "\n",
        "This line returns the value of a, which is the nth element of the Fibonacci sequence.    \n",
        "\n",
        "\n",
        "\n",
        "for i in range(10):\n",
        "    print(fibonacci(i))\n",
        "\n",
        "This loop iterates over the values from 0 to 9 and calls the fibonacci function with each value, printing the result to the console.\n",
        "\"\"\"\n"
      ],
      "metadata": {
        "id": "n7OaxD7Fr015"
      },
      "execution_count": null,
      "outputs": []
    },
    {
      "cell_type": "code",
      "source": [
        "\"\"\"\n",
        "#2nd code time complexity:-\n",
        "\n",
        "The time complexity of the fibonacci function is O(n), where n is the input value. This means that the running time of the function grows linearly with the size of the input.\n",
        "\n",
        "The reason for this is that the function uses a loop that iterates n times, and each iteration of the loop requires a constant amount of time to execute. \n",
        "As a result, the running time of the function is directly proportional to the value of the input.\n",
        "\n",
        "In the worst case, when the input value is the highest possible value, the time complexity of the function will be O(n), where n is the maximum value of the input.\n",
        "\n",
        "\n",
        "\n",
        "\"\"\""
      ],
      "metadata": {
        "id": "ONuje2yjs4vT"
      },
      "execution_count": null,
      "outputs": []
    },
    {
      "cell_type": "code",
      "source": [
        "\"\"\"\n",
        "#1st code time complexity:-\n",
        "\n",
        "The time complexity of the fibonacci function in the code you provided is O(2^n), where n is the input value. \n",
        "This means that the running time of the function grows exponentially with the size of the input.\n",
        "\n",
        "The reason for this is that the function uses a recursive approach to compute the Fibonacci sequence, \n",
        "and each call to the function generates two more recursive calls. As a result, the running time of the function grows exponentially with the value of the input.\n",
        "\n",
        "In the worst case, when the input value is the highest possible value, the time complexity of the function will be O(2^n), where n is the maximum value of the input. \n",
        "This makes the function less efficient than the iterative version of the Fibonacci sequence, which has a time complexity of O(n).\n",
        "\n",
        "\"\"\""
      ],
      "metadata": {
        "id": "Zw5M0GU5tXNt"
      },
      "execution_count": null,
      "outputs": []
    }
  ]
}