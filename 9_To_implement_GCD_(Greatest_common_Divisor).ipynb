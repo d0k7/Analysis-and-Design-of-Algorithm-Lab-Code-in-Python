{
  "nbformat": 4,
  "nbformat_minor": 0,
  "metadata": {
    "colab": {
      "provenance": [],
      "authorship_tag": "ABX9TyP+P1QhRXUmfu1VNlYmqrzc",
      "include_colab_link": true
    },
    "kernelspec": {
      "name": "python3",
      "display_name": "Python 3"
    },
    "language_info": {
      "name": "python"
    }
  },
  "cells": [
    {
      "cell_type": "markdown",
      "metadata": {
        "id": "view-in-github",
        "colab_type": "text"
      },
      "source": [
        "<a href=\"https://colab.research.google.com/github/d0k7/Analysis-and-Design-of-Algorithm-Lab-Code-in-Python/blob/main/9_To_implement_GCD_(Greatest_common_Divisor).ipynb\" target=\"_parent\"><img src=\"https://colab.research.google.com/assets/colab-badge.svg\" alt=\"Open In Colab\"/></a>"
      ]
    },
    {
      "cell_type": "code",
      "execution_count": 1,
      "metadata": {
        "colab": {
          "base_uri": "https://localhost:8080/"
        },
        "id": "3v4lrkxAwi--",
        "outputId": "20fb805c-f5d7-421a-8dd9-a439fa7c325f"
      },
      "outputs": [
        {
          "output_type": "stream",
          "name": "stdout",
          "text": [
            "4\n",
            "12\n",
            "27\n"
          ]
        }
      ],
      "source": [
        "def gcd(a, b):\n",
        "  while b != 0:\n",
        "    a, b = b, a % b\n",
        "  return a\n",
        "\n",
        "print(gcd(12, 16)) \n",
        "print(gcd(60, 48))  \n",
        "print(gcd(81, 27))  \n"
      ]
    },
    {
      "cell_type": "code",
      "source": [
        "\"\"\"\n",
        "# Explanation of the GCD:-\n",
        "\n",
        "This implementation uses the Euclidean algorithm to calculate the GCD. The algorithm works by repeatedly applying the following steps:\n",
        "\n",
        "Calculate the remainder of dividing a by b.\n",
        "\n",
        "Replace a with b and b with the remainder from step 1.\n",
        "\n",
        "Repeat until the remainder is 0.\n",
        "\n",
        "At that point, a will contain the GCD of the original a and b.\n",
        "\n",
        "# Explanation of the code:-\n",
        "\n",
        "The gcd function takes two integers, a and b, as input and returns their greatest common divisor (GCD).\n",
        "\n",
        "The algorithm uses a while loop to iterate until b becomes 0. Inside the loop, it calculates the remainder of dividing a by b using the modulo operator (%). \n",
        "The modulo operator returns the remainder of the division, so a % b is the remainder of dividing a by b.\n",
        "\n",
        "Next, the code uses tuple assignment to simultaneously assign the values of b and a % b to the variables a and b, respectively. \n",
        "This has the effect of swapping the values of a and b, with the remainder becoming the new value of b.\n",
        "\n",
        "Finally, the loop terminates when b becomes 0, at which point the function returns the value of a, which is the GCD of the original a and b.\n",
        "\n",
        "Here is an example of how the algorithm works for the input (12, 16):\n",
        "\n",
        "a is 12 and b is 16. The remainder of 12 divided by 16 is 12, so a becomes 16 and b becomes 12.\n",
        "a is 16 and b is 12. The remainder of 16 divided by 12 is 4, so a becomes 12 and b becomes 4.\n",
        "a is 12 and b is 4. The remainder of 12 divided by 4 is 0, so b becomes 0 and the loop terminates. The function returns the value of a, which is 4, the GCD of 12 and 16.\n",
        "\n",
        "\"\"\""
      ],
      "metadata": {
        "id": "ktNWDj1Bwwzj"
      },
      "execution_count": null,
      "outputs": []
    },
    {
      "cell_type": "code",
      "source": [
        "\"\"\"\n",
        "# Line by line Explanation of the code:-\n",
        "\n",
        "def gcd(a, b):\n",
        "\n",
        "This line defines a function called gcd that takes two integers, a and b, as input.\n",
        "\n",
        "\n",
        "  while b != 0:\n",
        "\n",
        "\n",
        "This line starts a while loop that will continue to iterate as long as b is not equal to 0.\n",
        "\n",
        "\n",
        "    a, b = b, a % b\n",
        "\n",
        "\n",
        "This line uses tuple assignment to simultaneously assign the values of b and a % b to the variables a and b, respectively. \n",
        "This has the effect of swapping the values of a and b, with the remainder becoming the new value of b.\n",
        "\n",
        "  return a\n",
        "\n",
        "This line is reached when the loop terminates, which happens when b becomes 0. The function returns the value of a, which is the GCD of the original a and b.\n",
        "\n",
        "\"\"\""
      ],
      "metadata": {
        "id": "gyS4zqsGxbXB"
      },
      "execution_count": null,
      "outputs": []
    },
    {
      "cell_type": "code",
      "source": [
        "\"\"\"\n",
        "# Time complexity  of the code:-\n",
        "\n",
        "The time complexity of the above code is O(log(n)), where n is the smaller of the two input numbers. This means that the algorithm's run time increases \n",
        "logarithmically with the size of the input.\n",
        "\n",
        "The reason for this is that the algorithm uses the Euclidean algorithm, which repeatedly divides the larger number by the smaller number until the remainder becomes 0. \n",
        "Since the smaller number decreases with each iteration, the number of iterations is logarithmic in the size of the input.\n",
        "\n",
        "For example, if the input numbers are 12 and 16, the algorithm will perform the following iterations:\n",
        "\n",
        "12 divided by 16 is 0 with a remainder of 12.\n",
        "16 divided by 12 is 1 with a remainder of 4.\n",
        "12 divided by 4 is 3 with a remainder of 0.\n",
        "In this case, the algorithm took 3 iterations to find the GCD, which is O(log(n)) where n is the smaller of the two input numbers (in this case, 12).\n",
        "\n",
        "Note that the time complexity of the algorithm is independent of the actual values of the input numbers. It only depends on the relative sizes of the numbers. \n",
        "This means that the algorithm will have the same time complexity for any two numbers, regardless of their specific values.\n",
        "\n",
        "\"\"\""
      ],
      "metadata": {
        "id": "8NfXSN9hyoA8"
      },
      "execution_count": null,
      "outputs": []
    }
  ]
}