{
  "nbformat": 4,
  "nbformat_minor": 0,
  "metadata": {
    "colab": {
      "provenance": [],
      "authorship_tag": "ABX9TyMdfSO1Zp9mw+46sBHmnhsB",
      "include_colab_link": true
    },
    "kernelspec": {
      "name": "python3",
      "display_name": "Python 3"
    },
    "language_info": {
      "name": "python"
    }
  },
  "cells": [
    {
      "cell_type": "markdown",
      "metadata": {
        "id": "view-in-github",
        "colab_type": "text"
      },
      "source": [
        "<a href=\"https://colab.research.google.com/github/d0k7/Analysis-and-Design-of-Algorithm-Lab-Code-in-Python/blob/main/8_To_implement_matrix_multiplication.ipynb\" target=\"_parent\"><img src=\"https://colab.research.google.com/assets/colab-badge.svg\" alt=\"Open In Colab\"/></a>"
      ]
    },
    {
      "cell_type": "code",
      "execution_count": 3,
      "metadata": {
        "colab": {
          "base_uri": "https://localhost:8080/"
        },
        "id": "pIV1y8l5WiU6",
        "outputId": "283a76c8-e9b8-4f4f-eac2-5afa7fea2d8f"
      },
      "outputs": [
        {
          "output_type": "stream",
          "name": "stdout",
          "text": [
            "[[19, 22], [43, 50]]\n"
          ]
        }
      ],
      "source": [
        "def matrix_multiplication(A, B):\n",
        "  rows_A = len(A)\n",
        "  cols_A = len(A[0])\n",
        "  rows_B = len(B)\n",
        "  cols_B = len(B[0])\n",
        "\n",
        "  if cols_A != rows_B:\n",
        "    print(\"Cannot multiply the two matrices. Incorrect dimensions.\")\n",
        "    return\n",
        "\n",
        "  # Create the result matrix using a single list comprehension\n",
        "  C = [[sum(A[i][k] * B[k][j] for k in range(cols_A)) for j in range(cols_B)] for i in range(rows_A)]\n",
        "\n",
        "  return C\n",
        "\n",
        "A = [[1, 2], [3, 4]]\n",
        "B = [[5, 6], [7, 8]]\n",
        "\n",
        "C = matrix_multiplication(A, B)\n",
        "print(C)  \n"
      ]
    },
    {
      "cell_type": "code",
      "source": [
        "\"\"\"\n",
        "Explanation of the code:-\n",
        "\n",
        "This function performs matrix multiplication of two matrices A and B, provided that the number of columns in A is equal to the number of rows in B.\n",
        "\n",
        "The function first checks if the dimensions of the matrices are compatible for multiplication, and returns an error message if they are not. \n",
        "If the dimensions are compatible, the function uses a nested list comprehension to iterate over the rows and columns of the resulting matrix C, \n",
        "and performs the matrix multiplication by summing the products of the corresponding entries in the rows of A and the columns of B.\n",
        "\n",
        "The resulting matrix C is then returned by the function.\n",
        "\n",
        "For example, if A is a 2x2 matrix and B is a 2x2 matrix, then the resulting matrix C will also be a 2x2 matrix. \n",
        "If you call the function with the matrices A and B defined as above, the output will be the matrix [[19, 22], [43, 50]].\n",
        "\n",
        "\"\"\""
      ],
      "metadata": {
        "id": "_f8tI7QvXZzk"
      },
      "execution_count": null,
      "outputs": []
    },
    {
      "cell_type": "code",
      "source": [
        "\"\"\"\n",
        "Line by line explanation of the code:-\n",
        "\n",
        "def matrix_multiplication(A, B):\n",
        "\n",
        "\n",
        "This line defines the function matrix_multiplication, which takes two matrices A and B as inputs.\n",
        "\n",
        "\n",
        "  rows_A = len(A)\n",
        "  cols_A = len(A[0])\n",
        "  rows_B = len(B)\n",
        "  cols_B = len(B[0])\n",
        "\n",
        "These lines calculate the number of rows and columns in the matrices A and B. The len function returns the length of a list. \n",
        "The number of rows in A is stored in the variable rows_A, and the number of columns in A is stored in the variable cols_A. Similarly, \n",
        "the number of rows in B is stored in the variable rows_B, and the number of columns in B is stored in the variable cols_B.\n",
        "\n",
        "\n",
        "\n",
        " \n",
        "  if cols_A != rows_B:\n",
        "    print(\"Cannot multiply the two matrices. Incorrect dimensions.\")\n",
        "    return\n",
        "\n",
        "\n",
        "This line checks if the number of columns in A is equal to the number of rows in B. If these dimensions are not equal, it means that the matrices cannot be multiplied, \n",
        "and the function prints an error message and exits.\n",
        "\n",
        "\n",
        "  C = [[sum(A[i][k] * B[k][j] for k in range(cols_A)) for j in range(cols_B)] for i in range(rows_A)]\n",
        "\n",
        "\n",
        "This line uses a nested list comprehension to iterate over the rows and columns of the resulting matrix C, and perform the matrix multiplication.\n",
        "\n",
        "The outer loop iterates over the rows of A using the range range(rows_A). The inner loop iterates over the columns of B using the range range(cols_B). \n",
        "The innermost loop iterates over the columns of A and the rows of B using the range range(cols_A).\n",
        "\n",
        "For each element C[i][j] in the resulting matrix C, the function calculates the sum of the products of the corresponding entries in the rows of A and the columns of B. \n",
        "This is done using the sum function and the generator expression A[i][k] * B[k][j] inside the sum function. The generator expression calculates the product of the kth entry in \n",
        "the ith row of A and the kth column of B, for each value of k in the range range(cols_A). The resulting sum is then assigned to the element C[i][j].\n",
        "\n",
        "\n",
        "\n",
        "\n",
        "  return C\n",
        "\n",
        "\n",
        "This line returns the resulting matrix C from the function\n",
        "\n",
        "\n",
        "\"\"\"\n"
      ],
      "metadata": {
        "id": "LQF_TMUUs9dk"
      },
      "execution_count": null,
      "outputs": []
    },
    {
      "cell_type": "code",
      "source": [
        "\"\"\"\n",
        "Time Complexity of the above code:-\n",
        "\n",
        "The time complexity of the matrix_multiplication function is O(n^3), where n is the number of rows in the matrix A.\n",
        "\n",
        "This is because the function uses a nested loop to iterate over the rows and columns of the resulting matrix C, \n",
        "and the innermost loop iterates over the columns of A and the rows of B. Therefore, the time complexity is O(n^3), \n",
        "which is the time required to perform the matrix multiplication of two nxn matrices.\n",
        "\n",
        "This time complexity assumes that the matrix multiplication is performed using the standard matrix multiplication algorithm, \n",
        "which involves iterating over the rows and columns of the matrices and performing the multiplication and addition operations.\n",
        "\n",
        "Note that there are faster algorithms for matrix multiplication, such as the Strassen algorithm, which has a time complexity of O(n^2.807). However, \n",
        "these algorithms are more complex and may not be suitable for all cases.\n",
        "\n",
        "The time complexity of the matrix_multiplication function is O(n^3) in all cases, where n is the number of rows in the matrix A. \n",
        "This means that the best case, worst case, and average case time complexity of the function are all O(n^3).\n",
        "\n",
        "This is because the time complexity of the function is determined by the number of iterations required to perform the matrix multiplication of two nxn matrices,\n",
        " which is O(n^3) in all cases.\n",
        "\n",
        "Note that the time complexity of the function assumes that the matrix multiplication is performed using the standard matrix multiplication algorithm, \n",
        "which involves iterating over the rows and columns of the matrices and performing the multiplication and addition operations.\n",
        "\n",
        "There may be faster algorithms for matrix multiplication, such as the Strassen algorithm, which has a time complexity of O(n^2.807). However, \n",
        "these algorithms are more complex and may not be suitable for all cases.\n",
        "\n",
        "\"\"\""
      ],
      "metadata": {
        "id": "Q_W6HH3CvFZ-"
      },
      "execution_count": null,
      "outputs": []
    }
  ]
}